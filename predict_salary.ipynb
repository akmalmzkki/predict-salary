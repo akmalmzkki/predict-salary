{
 "cells": [
  {
   "attachments": {},
   "cell_type": "markdown",
   "metadata": {},
   "source": [
    "# Data Preparation"
   ]
  },
  {
   "cell_type": "code",
   "execution_count": 189,
   "metadata": {},
   "outputs": [],
   "source": [
    "import pandas as pd\n",
    "import matplotlib.pyplot as plt\n",
    "import numpy as np\n",
    "import pickle\n",
    "import torch\n",
    "\n",
    "from sklearn.preprocessing import LabelEncoder\n",
    "from sklearn.model_selection import train_test_split\n",
    "from sklearn.linear_model import LinearRegression\n",
    "from sklearn.tree import DecisionTreeRegressor\n",
    "from sklearn.ensemble import RandomForestRegressor\n",
    "from sklearn.model_selection import GridSearchCV\n",
    "from sklearn.metrics import mean_squared_error, mean_absolute_error\n",
    "\n",
    "from torch import nn"
   ]
  },
  {
   "cell_type": "code",
   "execution_count": 158,
   "metadata": {},
   "outputs": [
    {
     "data": {
      "text/html": [
       "<div>\n",
       "<style scoped>\n",
       "    .dataframe tbody tr th:only-of-type {\n",
       "        vertical-align: middle;\n",
       "    }\n",
       "\n",
       "    .dataframe tbody tr th {\n",
       "        vertical-align: top;\n",
       "    }\n",
       "\n",
       "    .dataframe thead th {\n",
       "        text-align: right;\n",
       "    }\n",
       "</style>\n",
       "<table border=\"1\" class=\"dataframe\">\n",
       "  <thead>\n",
       "    <tr style=\"text-align: right;\">\n",
       "      <th></th>\n",
       "      <th>Unnamed: 0</th>\n",
       "      <th>Country</th>\n",
       "      <th>EdLevel</th>\n",
       "      <th>YearsCodePro</th>\n",
       "      <th>Employment</th>\n",
       "      <th>Salary</th>\n",
       "    </tr>\n",
       "  </thead>\n",
       "  <tbody>\n",
       "    <tr>\n",
       "      <th>0</th>\n",
       "      <td>2</td>\n",
       "      <td>United Kingdom of Great Britain and Northern I...</td>\n",
       "      <td>Master’s degree (M.A., M.S., M.Eng., MBA, etc.)</td>\n",
       "      <td>5</td>\n",
       "      <td>Employed, full-time</td>\n",
       "      <td>40205.0</td>\n",
       "    </tr>\n",
       "    <tr>\n",
       "      <th>1</th>\n",
       "      <td>3</td>\n",
       "      <td>Israel</td>\n",
       "      <td>Bachelor’s degree (B.A., B.S., B.Eng., etc.)</td>\n",
       "      <td>17</td>\n",
       "      <td>Employed, full-time</td>\n",
       "      <td>215232.0</td>\n",
       "    </tr>\n",
       "    <tr>\n",
       "      <th>2</th>\n",
       "      <td>8</td>\n",
       "      <td>Netherlands</td>\n",
       "      <td>Master’s degree (M.A., M.S., M.Eng., MBA, etc.)</td>\n",
       "      <td>6</td>\n",
       "      <td>Employed, full-time</td>\n",
       "      <td>49056.0</td>\n",
       "    </tr>\n",
       "    <tr>\n",
       "      <th>3</th>\n",
       "      <td>10</td>\n",
       "      <td>United Kingdom of Great Britain and Northern I...</td>\n",
       "      <td>Bachelor’s degree (B.A., B.S., B.Eng., etc.)</td>\n",
       "      <td>2</td>\n",
       "      <td>Employed, full-time</td>\n",
       "      <td>60307.0</td>\n",
       "    </tr>\n",
       "    <tr>\n",
       "      <th>4</th>\n",
       "      <td>11</td>\n",
       "      <td>United States of America</td>\n",
       "      <td>Bachelor’s degree (B.A., B.S., B.Eng., etc.)</td>\n",
       "      <td>10</td>\n",
       "      <td>Employed, full-time;Independent contractor, fr...</td>\n",
       "      <td>194400.0</td>\n",
       "    </tr>\n",
       "    <tr>\n",
       "      <th>...</th>\n",
       "      <td>...</td>\n",
       "      <td>...</td>\n",
       "      <td>...</td>\n",
       "      <td>...</td>\n",
       "      <td>...</td>\n",
       "      <td>...</td>\n",
       "    </tr>\n",
       "    <tr>\n",
       "      <th>37914</th>\n",
       "      <td>73116</td>\n",
       "      <td>United States of America</td>\n",
       "      <td>Bachelor’s degree (B.A., B.S., B.Eng., etc.)</td>\n",
       "      <td>16</td>\n",
       "      <td>Employed, full-time</td>\n",
       "      <td>115000.0</td>\n",
       "    </tr>\n",
       "    <tr>\n",
       "      <th>37915</th>\n",
       "      <td>73118</td>\n",
       "      <td>Nigeria</td>\n",
       "      <td>Bachelor’s degree (B.A., B.S., B.Eng., etc.)</td>\n",
       "      <td>3</td>\n",
       "      <td>Employed, full-time</td>\n",
       "      <td>57720.0</td>\n",
       "    </tr>\n",
       "    <tr>\n",
       "      <th>37916</th>\n",
       "      <td>73119</td>\n",
       "      <td>United States of America</td>\n",
       "      <td>Bachelor’s degree (B.A., B.S., B.Eng., etc.)</td>\n",
       "      <td>1</td>\n",
       "      <td>Employed, full-time</td>\n",
       "      <td>70000.0</td>\n",
       "    </tr>\n",
       "    <tr>\n",
       "      <th>37917</th>\n",
       "      <td>73120</td>\n",
       "      <td>Spain</td>\n",
       "      <td>Bachelor’s degree (B.A., B.S., B.Eng., etc.)</td>\n",
       "      <td>2</td>\n",
       "      <td>Employed, full-time</td>\n",
       "      <td>35192.0</td>\n",
       "    </tr>\n",
       "    <tr>\n",
       "      <th>37918</th>\n",
       "      <td>73121</td>\n",
       "      <td>United Kingdom of Great Britain and Northern I...</td>\n",
       "      <td>Master’s degree (M.A., M.S., M.Eng., MBA, etc.)</td>\n",
       "      <td>3</td>\n",
       "      <td>Employed, full-time</td>\n",
       "      <td>75384.0</td>\n",
       "    </tr>\n",
       "  </tbody>\n",
       "</table>\n",
       "<p>37919 rows × 6 columns</p>\n",
       "</div>"
      ],
      "text/plain": [
       "       Unnamed: 0                                            Country  \\\n",
       "0               2  United Kingdom of Great Britain and Northern I...   \n",
       "1               3                                             Israel   \n",
       "2               8                                        Netherlands   \n",
       "3              10  United Kingdom of Great Britain and Northern I...   \n",
       "4              11                           United States of America   \n",
       "...           ...                                                ...   \n",
       "37914       73116                           United States of America   \n",
       "37915       73118                                            Nigeria   \n",
       "37916       73119                           United States of America   \n",
       "37917       73120                                              Spain   \n",
       "37918       73121  United Kingdom of Great Britain and Northern I...   \n",
       "\n",
       "                                               EdLevel YearsCodePro  \\\n",
       "0      Master’s degree (M.A., M.S., M.Eng., MBA, etc.)            5   \n",
       "1         Bachelor’s degree (B.A., B.S., B.Eng., etc.)           17   \n",
       "2      Master’s degree (M.A., M.S., M.Eng., MBA, etc.)            6   \n",
       "3         Bachelor’s degree (B.A., B.S., B.Eng., etc.)            2   \n",
       "4         Bachelor’s degree (B.A., B.S., B.Eng., etc.)           10   \n",
       "...                                                ...          ...   \n",
       "37914     Bachelor’s degree (B.A., B.S., B.Eng., etc.)           16   \n",
       "37915     Bachelor’s degree (B.A., B.S., B.Eng., etc.)            3   \n",
       "37916     Bachelor’s degree (B.A., B.S., B.Eng., etc.)            1   \n",
       "37917     Bachelor’s degree (B.A., B.S., B.Eng., etc.)            2   \n",
       "37918  Master’s degree (M.A., M.S., M.Eng., MBA, etc.)            3   \n",
       "\n",
       "                                              Employment    Salary  \n",
       "0                                    Employed, full-time   40205.0  \n",
       "1                                    Employed, full-time  215232.0  \n",
       "2                                    Employed, full-time   49056.0  \n",
       "3                                    Employed, full-time   60307.0  \n",
       "4      Employed, full-time;Independent contractor, fr...  194400.0  \n",
       "...                                                  ...       ...  \n",
       "37914                                Employed, full-time  115000.0  \n",
       "37915                                Employed, full-time   57720.0  \n",
       "37916                                Employed, full-time   70000.0  \n",
       "37917                                Employed, full-time   35192.0  \n",
       "37918                                Employed, full-time   75384.0  \n",
       "\n",
       "[37919 rows x 6 columns]"
      ]
     },
     "execution_count": 158,
     "metadata": {},
     "output_type": "execute_result"
    }
   ],
   "source": [
    "df = pd.read_csv('survey_results_public.csv')\n",
    "df"
   ]
  },
  {
   "cell_type": "code",
   "execution_count": 159,
   "metadata": {},
   "outputs": [
    {
     "data": {
      "text/html": [
       "<div>\n",
       "<style scoped>\n",
       "    .dataframe tbody tr th:only-of-type {\n",
       "        vertical-align: middle;\n",
       "    }\n",
       "\n",
       "    .dataframe tbody tr th {\n",
       "        vertical-align: top;\n",
       "    }\n",
       "\n",
       "    .dataframe thead th {\n",
       "        text-align: right;\n",
       "    }\n",
       "</style>\n",
       "<table border=\"1\" class=\"dataframe\">\n",
       "  <thead>\n",
       "    <tr style=\"text-align: right;\">\n",
       "      <th></th>\n",
       "      <th>Country</th>\n",
       "      <th>EdLevel</th>\n",
       "      <th>YearsCodePro</th>\n",
       "      <th>Employment</th>\n",
       "      <th>Salary</th>\n",
       "    </tr>\n",
       "  </thead>\n",
       "  <tbody>\n",
       "    <tr>\n",
       "      <th>0</th>\n",
       "      <td>United Kingdom of Great Britain and Northern I...</td>\n",
       "      <td>Master’s degree (M.A., M.S., M.Eng., MBA, etc.)</td>\n",
       "      <td>5</td>\n",
       "      <td>Employed, full-time</td>\n",
       "      <td>40205.0</td>\n",
       "    </tr>\n",
       "    <tr>\n",
       "      <th>1</th>\n",
       "      <td>Israel</td>\n",
       "      <td>Bachelor’s degree (B.A., B.S., B.Eng., etc.)</td>\n",
       "      <td>17</td>\n",
       "      <td>Employed, full-time</td>\n",
       "      <td>215232.0</td>\n",
       "    </tr>\n",
       "    <tr>\n",
       "      <th>2</th>\n",
       "      <td>Netherlands</td>\n",
       "      <td>Master’s degree (M.A., M.S., M.Eng., MBA, etc.)</td>\n",
       "      <td>6</td>\n",
       "      <td>Employed, full-time</td>\n",
       "      <td>49056.0</td>\n",
       "    </tr>\n",
       "    <tr>\n",
       "      <th>3</th>\n",
       "      <td>United Kingdom of Great Britain and Northern I...</td>\n",
       "      <td>Bachelor’s degree (B.A., B.S., B.Eng., etc.)</td>\n",
       "      <td>2</td>\n",
       "      <td>Employed, full-time</td>\n",
       "      <td>60307.0</td>\n",
       "    </tr>\n",
       "    <tr>\n",
       "      <th>4</th>\n",
       "      <td>United States of America</td>\n",
       "      <td>Bachelor’s degree (B.A., B.S., B.Eng., etc.)</td>\n",
       "      <td>10</td>\n",
       "      <td>Employed, full-time;Independent contractor, fr...</td>\n",
       "      <td>194400.0</td>\n",
       "    </tr>\n",
       "  </tbody>\n",
       "</table>\n",
       "</div>"
      ],
      "text/plain": [
       "                                             Country  \\\n",
       "0  United Kingdom of Great Britain and Northern I...   \n",
       "1                                             Israel   \n",
       "2                                        Netherlands   \n",
       "3  United Kingdom of Great Britain and Northern I...   \n",
       "4                           United States of America   \n",
       "\n",
       "                                           EdLevel YearsCodePro  \\\n",
       "0  Master’s degree (M.A., M.S., M.Eng., MBA, etc.)            5   \n",
       "1     Bachelor’s degree (B.A., B.S., B.Eng., etc.)           17   \n",
       "2  Master’s degree (M.A., M.S., M.Eng., MBA, etc.)            6   \n",
       "3     Bachelor’s degree (B.A., B.S., B.Eng., etc.)            2   \n",
       "4     Bachelor’s degree (B.A., B.S., B.Eng., etc.)           10   \n",
       "\n",
       "                                          Employment    Salary  \n",
       "0                                Employed, full-time   40205.0  \n",
       "1                                Employed, full-time  215232.0  \n",
       "2                                Employed, full-time   49056.0  \n",
       "3                                Employed, full-time   60307.0  \n",
       "4  Employed, full-time;Independent contractor, fr...  194400.0  "
      ]
     },
     "execution_count": 159,
     "metadata": {},
     "output_type": "execute_result"
    }
   ],
   "source": [
    "# Drop kolom unamed\n",
    "df.drop('Unnamed: 0', axis=1, inplace=True)\n",
    "df.head()"
   ]
  },
  {
   "cell_type": "code",
   "execution_count": 160,
   "metadata": {},
   "outputs": [
    {
     "name": "stdout",
     "output_type": "stream",
     "text": [
      "<class 'pandas.core.frame.DataFrame'>\n",
      "RangeIndex: 37919 entries, 0 to 37918\n",
      "Data columns (total 5 columns):\n",
      " #   Column        Non-Null Count  Dtype  \n",
      "---  ------        --------------  -----  \n",
      " 0   Country       37919 non-null  object \n",
      " 1   EdLevel       37919 non-null  object \n",
      " 2   YearsCodePro  37919 non-null  object \n",
      " 3   Employment    37919 non-null  object \n",
      " 4   Salary        37919 non-null  float64\n",
      "dtypes: float64(1), object(4)\n",
      "memory usage: 1.4+ MB\n"
     ]
    }
   ],
   "source": [
    "df.info()"
   ]
  },
  {
   "cell_type": "code",
   "execution_count": 161,
   "metadata": {},
   "outputs": [
    {
     "data": {
      "text/plain": [
       "(37919, 5)"
      ]
     },
     "execution_count": 161,
     "metadata": {},
     "output_type": "execute_result"
    }
   ],
   "source": [
    "# Ambil atribut non-null pada salary\n",
    "df = df[df['Salary'].notnull()]\n",
    "df.shape"
   ]
  },
  {
   "cell_type": "code",
   "execution_count": 162,
   "metadata": {},
   "outputs": [
    {
     "data": {
      "text/plain": [
       "Country         0\n",
       "EdLevel         0\n",
       "YearsCodePro    0\n",
       "Employment      0\n",
       "Salary          0\n",
       "dtype: int64"
      ]
     },
     "execution_count": 162,
     "metadata": {},
     "output_type": "execute_result"
    }
   ],
   "source": [
    "df = df.dropna()\n",
    "df.isnull().sum()"
   ]
  },
  {
   "attachments": {},
   "cell_type": "markdown",
   "metadata": {},
   "source": [
    "## Preparation Employment Column"
   ]
  },
  {
   "cell_type": "code",
   "execution_count": 163,
   "metadata": {},
   "outputs": [
    {
     "data": {
      "text/plain": [
       "Employed, full-time                                                                             31382\n",
       "Independent contractor, freelancer, or self-employed                                             2739\n",
       "Employed, full-time;Independent contractor, freelancer, or self-employed                         2633\n",
       "Employed, part-time                                                                               632\n",
       "Independent contractor, freelancer, or self-employed;Employed, part-time                          207\n",
       "Employed, full-time;Employed, part-time                                                           151\n",
       "Employed, full-time;Independent contractor, freelancer, or self-employed;Employed, part-time      118\n",
       "I prefer not to say                                                                                27\n",
       "Retired                                                                                            18\n",
       "Employed, part-time;Retired                                                                         5\n",
       "Independent contractor, freelancer, or self-employed;Retired                                        3\n",
       "Employed, full-time;Independent contractor, freelancer, or self-employed;Retired                    3\n",
       "Employed, full-time;Retired                                                                         1\n",
       "Name: Employment, dtype: int64"
      ]
     },
     "execution_count": 163,
     "metadata": {},
     "output_type": "execute_result"
    }
   ],
   "source": [
    "df['Employment'].value_counts()"
   ]
  },
  {
   "cell_type": "code",
   "execution_count": 164,
   "metadata": {},
   "outputs": [
    {
     "data": {
      "text/plain": [
       "Employed, full-time                                                                             31382\n",
       "Independent contractor, freelancer, or self-employed                                             2739\n",
       "Employed, full-time;Independent contractor, freelancer, or self-employed                         2633\n",
       "Employed, part-time                                                                               632\n",
       "Independent contractor, freelancer, or self-employed;Employed, part-time                          207\n",
       "Employed, full-time;Employed, part-time                                                           151\n",
       "Employed, full-time;Independent contractor, freelancer, or self-employed;Employed, part-time      118\n",
       "Name: Employment, dtype: int64"
      ]
     },
     "execution_count": 164,
     "metadata": {},
     "output_type": "execute_result"
    }
   ],
   "source": [
    "df = df[df['Employment'] != 'I prefer not to say']\n",
    "df = df[~df['Employment'].str.contains('retired', case=False)]\n",
    "\n",
    "df['Employment'].value_counts()"
   ]
  },
  {
   "cell_type": "code",
   "execution_count": 165,
   "metadata": {},
   "outputs": [
    {
     "data": {
      "text/plain": [
       "Employed                            34916\n",
       "full-time                           31382\n",
       "freelancer                           5697\n",
       "or self-employed                     5372\n",
       "Independent contractor               2946\n",
       "full-time;Independent contractor     2751\n",
       "part-time                            1108\n",
       "or self-employed;Employed             325\n",
       "full-time;Employed                    151\n",
       "Name: Employment, dtype: int64"
      ]
     },
     "execution_count": 165,
     "metadata": {},
     "output_type": "execute_result"
    }
   ],
   "source": [
    "# Pisahkan ke baris baru dipisahkan dengan koma pada kolom Employment\n",
    "df['Employment'] = df['Employment'].str.split(', ')\n",
    "# Pisahkan ke baris baru\n",
    "df = df.explode('Employment')\n",
    "df['Employment'].value_counts()"
   ]
  },
  {
   "cell_type": "code",
   "execution_count": 166,
   "metadata": {},
   "outputs": [
    {
     "data": {
      "text/plain": [
       "Employed                  35392\n",
       "full-time                 34284\n",
       "Independent contractor     5697\n",
       "freelancer                 5697\n",
       "or self-employed           5697\n",
       "part-time                  1108\n",
       "Name: Employment, dtype: int64"
      ]
     },
     "execution_count": 166,
     "metadata": {},
     "output_type": "execute_result"
    }
   ],
   "source": [
    "# Pisahkan ke baris baru dipisahkan dengan titik koma pada kolom Employment\n",
    "df['Employment'] = df['Employment'].str.split(';')\n",
    "# Pisahkan ke baris baru\n",
    "df = df.explode('Employment')\n",
    "df['Employment'].value_counts()"
   ]
  },
  {
   "cell_type": "code",
   "execution_count": 167,
   "metadata": {},
   "outputs": [
    {
     "data": {
      "text/plain": [
       "Employed                  35392\n",
       "full-time                 34284\n",
       "Independent contractor     5697\n",
       "freelancer                 5697\n",
       "self-employed              5697\n",
       "part-time                  1108\n",
       "Name: Employment, dtype: int64"
      ]
     },
     "execution_count": 167,
     "metadata": {},
     "output_type": "execute_result"
    }
   ],
   "source": [
    "# Menghilangkan kata or pada nilai or self-employed\n",
    "df['Employment'] = df['Employment'].str.replace('or ', '')\n",
    "df['Employment'].value_counts()"
   ]
  },
  {
   "cell_type": "code",
   "execution_count": 168,
   "metadata": {},
   "outputs": [
    {
     "data": {
      "text/plain": [
       "full-time                 34284\n",
       "Independent contractor     5697\n",
       "freelancer                 5697\n",
       "self-employed              5697\n",
       "part-time                  1108\n",
       "Name: Employment, dtype: int64"
      ]
     },
     "execution_count": 168,
     "metadata": {},
     "output_type": "execute_result"
    }
   ],
   "source": [
    "# Drop kolom dengan nilai employment = employed\n",
    "df = df[df['Employment'] != 'Employed']\n",
    "df['Employment'].value_counts()"
   ]
  },
  {
   "attachments": {},
   "cell_type": "markdown",
   "metadata": {},
   "source": [
    "## Preparation Country Column"
   ]
  },
  {
   "cell_type": "code",
   "execution_count": 169,
   "metadata": {},
   "outputs": [
    {
     "data": {
      "text/plain": [
       "United States of America                                10598\n",
       "Germany                                                  3816\n",
       "United Kingdom of Great Britain and Northern Ireland     3274\n",
       "India                                                    2884\n",
       "Canada                                                   2030\n",
       "                                                        ...  \n",
       "Suriname                                                    1\n",
       "Haiti                                                       1\n",
       "Fiji                                                        1\n",
       "Cape Verde                                                  1\n",
       "Seychelles                                                  1\n",
       "Name: Country, Length: 159, dtype: int64"
      ]
     },
     "execution_count": 169,
     "metadata": {},
     "output_type": "execute_result"
    }
   ],
   "source": [
    "df['Country'].value_counts()"
   ]
  },
  {
   "cell_type": "code",
   "execution_count": 170,
   "metadata": {},
   "outputs": [],
   "source": [
    "# Melakukan filter pada kolom Country jika nilai kurang dari cutoff\n",
    "def convert_to_categories(categories, cutoff):\n",
    "    categorical_map = {}\n",
    "    for i in range(len(categories.value_counts())):\n",
    "        if categories.value_counts().iloc[i] > cutoff:\n",
    "            categorical_map[categories.value_counts().index[i]] = categories.value_counts().index[i]\n",
    "        else:\n",
    "            categorical_map[categories.value_counts().index[i]] = 'Other'\n",
    "    return categories.map(categorical_map)"
   ]
  },
  {
   "cell_type": "code",
   "execution_count": 171,
   "metadata": {},
   "outputs": [
    {
     "data": {
      "text/plain": [
       "Other                                                   18499\n",
       "United States of America                                10598\n",
       "Germany                                                  3816\n",
       "United Kingdom of Great Britain and Northern Ireland     3274\n",
       "India                                                    2884\n",
       "Canada                                                   2030\n",
       "Brazil                                                   1930\n",
       "Poland                                                   1916\n",
       "France                                                   1898\n",
       "Spain                                                    1297\n",
       "Netherlands                                              1247\n",
       "Italy                                                    1110\n",
       "Australia                                                1101\n",
       "Sweden                                                    883\n",
       "Name: Country, dtype: int64"
      ]
     },
     "execution_count": 171,
     "metadata": {},
     "output_type": "execute_result"
    }
   ],
   "source": [
    "df['Country'] = convert_to_categories(df['Country'], 800)\n",
    "df['Country'].value_counts()"
   ]
  },
  {
   "attachments": {},
   "cell_type": "markdown",
   "metadata": {},
   "source": [
    "## Preparation YearsCodePro Column"
   ]
  },
  {
   "cell_type": "code",
   "execution_count": 172,
   "metadata": {},
   "outputs": [
    {
     "name": "stdout",
     "output_type": "stream",
     "text": [
      "<class 'pandas.core.frame.DataFrame'>\n",
      "Int64Index: 52483 entries, 0 to 37918\n",
      "Data columns (total 5 columns):\n",
      " #   Column        Non-Null Count  Dtype  \n",
      "---  ------        --------------  -----  \n",
      " 0   Country       52483 non-null  object \n",
      " 1   EdLevel       52483 non-null  object \n",
      " 2   YearsCodePro  52483 non-null  int32  \n",
      " 3   Employment    52483 non-null  object \n",
      " 4   Salary        52483 non-null  float64\n",
      "dtypes: float64(1), int32(1), object(3)\n",
      "memory usage: 2.2+ MB\n"
     ]
    }
   ],
   "source": [
    "df['YearsCodePro'] = df['YearsCodePro'].replace({'Less than 1 year': 0, 'More than 50 years': 51}).astype(int)\n",
    "df.info()"
   ]
  },
  {
   "cell_type": "code",
   "execution_count": 173,
   "metadata": {},
   "outputs": [
    {
     "data": {
      "text/plain": [
       "array([ 5, 17,  6,  2, 10,  4, 22, 20,  9, 14, 21, 15,  3, 25,  7,  8, 12,\n",
       "       19,  1, 28, 24, 11, 23, 45,  0, 18, 40, 37, 46, 13, 32, 31, 39, 27,\n",
       "       16, 26, 30, 34, 35, 29, 42, 38, 36, 43, 41, 44, 48, 33, 51, 50, 47,\n",
       "       49])"
      ]
     },
     "execution_count": 173,
     "metadata": {},
     "output_type": "execute_result"
    }
   ],
   "source": [
    "df['YearsCodePro'].unique()"
   ]
  },
  {
   "attachments": {},
   "cell_type": "markdown",
   "metadata": {},
   "source": [
    "## Preparation EdLevel Column"
   ]
  },
  {
   "cell_type": "code",
   "execution_count": 174,
   "metadata": {},
   "outputs": [
    {
     "data": {
      "text/plain": [
       "Bachelor’s degree (B.A., B.S., B.Eng., etc.)                                          24069\n",
       "Master’s degree (M.A., M.S., M.Eng., MBA, etc.)                                       13709\n",
       "Some college/university study without earning a degree                                 6736\n",
       "Secondary school (e.g. American high school, German Realschule or Gymnasium, etc.)     2613\n",
       "Associate degree (A.A., A.S., etc.)                                                    1800\n",
       "Other doctoral degree (Ph.D., Ed.D., etc.)                                             1776\n",
       "Professional degree (JD, MD, etc.)                                                      912\n",
       "Something else                                                                          521\n",
       "Primary/elementary school                                                               347\n",
       "Name: EdLevel, dtype: int64"
      ]
     },
     "execution_count": 174,
     "metadata": {},
     "output_type": "execute_result"
    }
   ],
   "source": [
    "df['EdLevel'].value_counts()"
   ]
  },
  {
   "cell_type": "code",
   "execution_count": 175,
   "metadata": {},
   "outputs": [
    {
     "data": {
      "text/plain": [
       "Bachelor            24069\n",
       "Master              13709\n",
       "Other degree         7257\n",
       "Secondary school     2613\n",
       "Associate            1800\n",
       "Doctoral             1776\n",
       "Professional          912\n",
       "Primary school        347\n",
       "Name: EdLevel, dtype: int64"
      ]
     },
     "execution_count": 175,
     "metadata": {},
     "output_type": "execute_result"
    }
   ],
   "source": [
    "def education_converter(x):\n",
    "    if 'Bachelor’s degree' in x:\n",
    "        return 'Bachelor'\n",
    "    elif 'Master’s degree' in x:\n",
    "        return 'Master'\n",
    "    elif 'Associate degree' in x:\n",
    "        return 'Associate'\n",
    "    elif 'Professional degree' in x:\n",
    "        return 'Professional'\n",
    "    elif 'Other doctoral degree' in x:\n",
    "        return 'Doctoral'\n",
    "    elif 'Secondary school' in x:\n",
    "        return 'Secondary school'\n",
    "    elif 'Primary' in x:\n",
    "        return 'Primary school'\n",
    "    else:\n",
    "        return 'Other degree'\n",
    "    \n",
    "df['EdLevel'] = df['EdLevel'].apply(education_converter)\n",
    "df['EdLevel'].value_counts()"
   ]
  },
  {
   "attachments": {},
   "cell_type": "markdown",
   "metadata": {},
   "source": [
    "## Summary"
   ]
  },
  {
   "cell_type": "code",
   "execution_count": 176,
   "metadata": {},
   "outputs": [
    {
     "data": {
      "text/plain": [
       "Other                                                   18499\n",
       "United States of America                                10598\n",
       "Germany                                                  3816\n",
       "United Kingdom of Great Britain and Northern Ireland     3274\n",
       "India                                                    2884\n",
       "Canada                                                   2030\n",
       "Brazil                                                   1930\n",
       "Poland                                                   1916\n",
       "France                                                   1898\n",
       "Spain                                                    1297\n",
       "Netherlands                                              1247\n",
       "Italy                                                    1110\n",
       "Australia                                                1101\n",
       "Sweden                                                    883\n",
       "Name: Country, dtype: int64"
      ]
     },
     "execution_count": 176,
     "metadata": {},
     "output_type": "execute_result"
    }
   ],
   "source": [
    "df['Country'].value_counts()"
   ]
  },
  {
   "cell_type": "code",
   "execution_count": 177,
   "metadata": {},
   "outputs": [
    {
     "data": {
      "text/plain": [
       "5     4207\n",
       "3     4146\n",
       "4     3796\n",
       "10    3503\n",
       "2     3489\n",
       "6     3335\n",
       "7     2962\n",
       "8     2915\n",
       "1     2282\n",
       "15    1982\n",
       "12    1860\n",
       "9     1737\n",
       "0     1559\n",
       "11    1485\n",
       "20    1469\n",
       "14    1187\n",
       "13    1049\n",
       "16     976\n",
       "22     951\n",
       "25     875\n",
       "17     874\n",
       "18     846\n",
       "30     544\n",
       "23     494\n",
       "24     490\n",
       "21     456\n",
       "19     413\n",
       "26     347\n",
       "27     287\n",
       "28     257\n",
       "35     248\n",
       "32     229\n",
       "40     152\n",
       "31     130\n",
       "29     125\n",
       "37     119\n",
       "36     111\n",
       "34     111\n",
       "33     103\n",
       "38      92\n",
       "42      56\n",
       "39      48\n",
       "41      35\n",
       "43      29\n",
       "45      27\n",
       "44      24\n",
       "51      17\n",
       "48      15\n",
       "46      11\n",
       "49      11\n",
       "50      10\n",
       "47       7\n",
       "Name: YearsCodePro, dtype: int64"
      ]
     },
     "execution_count": 177,
     "metadata": {},
     "output_type": "execute_result"
    }
   ],
   "source": [
    "df['YearsCodePro'].value_counts()"
   ]
  },
  {
   "cell_type": "code",
   "execution_count": 178,
   "metadata": {},
   "outputs": [
    {
     "data": {
      "text/plain": [
       "Bachelor            24069\n",
       "Master              13709\n",
       "Other degree         7257\n",
       "Secondary school     2613\n",
       "Associate            1800\n",
       "Doctoral             1776\n",
       "Professional          912\n",
       "Primary school        347\n",
       "Name: EdLevel, dtype: int64"
      ]
     },
     "execution_count": 178,
     "metadata": {},
     "output_type": "execute_result"
    }
   ],
   "source": [
    "df['EdLevel'].value_counts()"
   ]
  },
  {
   "cell_type": "code",
   "execution_count": 179,
   "metadata": {},
   "outputs": [
    {
     "data": {
      "text/plain": [
       "full-time                 34284\n",
       "Independent contractor     5697\n",
       "freelancer                 5697\n",
       "self-employed              5697\n",
       "part-time                  1108\n",
       "Name: Employment, dtype: int64"
      ]
     },
     "execution_count": 179,
     "metadata": {},
     "output_type": "execute_result"
    }
   ],
   "source": [
    "df['Employment'].value_counts()"
   ]
  },
  {
   "cell_type": "code",
   "execution_count": 180,
   "metadata": {},
   "outputs": [
    {
     "data": {
      "text/html": [
       "<div>\n",
       "<style scoped>\n",
       "    .dataframe tbody tr th:only-of-type {\n",
       "        vertical-align: middle;\n",
       "    }\n",
       "\n",
       "    .dataframe tbody tr th {\n",
       "        vertical-align: top;\n",
       "    }\n",
       "\n",
       "    .dataframe thead th {\n",
       "        text-align: right;\n",
       "    }\n",
       "</style>\n",
       "<table border=\"1\" class=\"dataframe\">\n",
       "  <thead>\n",
       "    <tr style=\"text-align: right;\">\n",
       "      <th></th>\n",
       "      <th>Country</th>\n",
       "      <th>EdLevel</th>\n",
       "      <th>YearsCodePro</th>\n",
       "      <th>Employment</th>\n",
       "      <th>Salary</th>\n",
       "    </tr>\n",
       "  </thead>\n",
       "  <tbody>\n",
       "    <tr>\n",
       "      <th>0</th>\n",
       "      <td>United Kingdom of Great Britain and Northern I...</td>\n",
       "      <td>Master</td>\n",
       "      <td>5</td>\n",
       "      <td>full-time</td>\n",
       "      <td>40205.0</td>\n",
       "    </tr>\n",
       "    <tr>\n",
       "      <th>1</th>\n",
       "      <td>Other</td>\n",
       "      <td>Bachelor</td>\n",
       "      <td>17</td>\n",
       "      <td>full-time</td>\n",
       "      <td>215232.0</td>\n",
       "    </tr>\n",
       "    <tr>\n",
       "      <th>2</th>\n",
       "      <td>Netherlands</td>\n",
       "      <td>Master</td>\n",
       "      <td>6</td>\n",
       "      <td>full-time</td>\n",
       "      <td>49056.0</td>\n",
       "    </tr>\n",
       "    <tr>\n",
       "      <th>3</th>\n",
       "      <td>United Kingdom of Great Britain and Northern I...</td>\n",
       "      <td>Bachelor</td>\n",
       "      <td>2</td>\n",
       "      <td>full-time</td>\n",
       "      <td>60307.0</td>\n",
       "    </tr>\n",
       "    <tr>\n",
       "      <th>4</th>\n",
       "      <td>United States of America</td>\n",
       "      <td>Bachelor</td>\n",
       "      <td>10</td>\n",
       "      <td>full-time</td>\n",
       "      <td>194400.0</td>\n",
       "    </tr>\n",
       "  </tbody>\n",
       "</table>\n",
       "</div>"
      ],
      "text/plain": [
       "                                             Country   EdLevel  YearsCodePro  \\\n",
       "0  United Kingdom of Great Britain and Northern I...    Master             5   \n",
       "1                                              Other  Bachelor            17   \n",
       "2                                        Netherlands    Master             6   \n",
       "3  United Kingdom of Great Britain and Northern I...  Bachelor             2   \n",
       "4                           United States of America  Bachelor            10   \n",
       "\n",
       "  Employment    Salary  \n",
       "0  full-time   40205.0  \n",
       "1  full-time  215232.0  \n",
       "2  full-time   49056.0  \n",
       "3  full-time   60307.0  \n",
       "4  full-time  194400.0  "
      ]
     },
     "execution_count": 180,
     "metadata": {},
     "output_type": "execute_result"
    }
   ],
   "source": [
    "df.head()"
   ]
  },
  {
   "attachments": {},
   "cell_type": "markdown",
   "metadata": {},
   "source": [
    "# Preprocessing Data"
   ]
  },
  {
   "cell_type": "code",
   "execution_count": 181,
   "metadata": {},
   "outputs": [
    {
     "name": "stdout",
     "output_type": "stream",
     "text": [
      "['Associate' 'Bachelor' 'Doctoral' 'Master' 'Other degree'\n",
      " 'Primary school' 'Professional' 'Secondary school']\n",
      "[3 1 7 4 0 6 2 5]\n"
     ]
    }
   ],
   "source": [
    "ed_encoder = LabelEncoder()\n",
    "df['EdLevel'] = ed_encoder.fit_transform(np.ravel(df[['EdLevel']].values))\n",
    "print(ed_encoder.classes_)\n",
    "print(df['EdLevel'].unique())"
   ]
  },
  {
   "cell_type": "code",
   "execution_count": 182,
   "metadata": {},
   "outputs": [
    {
     "name": "stdout",
     "output_type": "stream",
     "text": [
      "['Australia' 'Brazil' 'Canada' 'France' 'Germany' 'India' 'Italy'\n",
      " 'Netherlands' 'Other' 'Poland' 'Spain' 'Sweden'\n",
      " 'United Kingdom of Great Britain and Northern Ireland'\n",
      " 'United States of America']\n",
      "[12  8  7 13  6  2  4  9  3  1 11 10  5  0]\n"
     ]
    }
   ],
   "source": [
    "country_encoder = LabelEncoder()\n",
    "df['Country'] = country_encoder.fit_transform(np.ravel(df[['Country']].values))\n",
    "print(country_encoder.classes_)\n",
    "print(df['Country'].unique())"
   ]
  },
  {
   "cell_type": "code",
   "execution_count": 183,
   "metadata": {},
   "outputs": [
    {
     "name": "stdout",
     "output_type": "stream",
     "text": [
      "['Independent contractor' 'freelancer' 'full-time' 'part-time'\n",
      " 'self-employed']\n",
      "[2 0 1 4 3]\n"
     ]
    }
   ],
   "source": [
    "employment_encoder = LabelEncoder()\n",
    "df['Employment'] = employment_encoder.fit_transform(np.ravel(df[['Employment']].values))\n",
    "print(employment_encoder.classes_)\n",
    "print(df['Employment'].unique())"
   ]
  },
  {
   "attachments": {},
   "cell_type": "markdown",
   "metadata": {},
   "source": [
    "# Convert Data to New Data Cleaning"
   ]
  },
  {
   "cell_type": "code",
   "execution_count": 184,
   "metadata": {},
   "outputs": [
    {
     "data": {
      "text/html": [
       "<div>\n",
       "<style scoped>\n",
       "    .dataframe tbody tr th:only-of-type {\n",
       "        vertical-align: middle;\n",
       "    }\n",
       "\n",
       "    .dataframe tbody tr th {\n",
       "        vertical-align: top;\n",
       "    }\n",
       "\n",
       "    .dataframe thead th {\n",
       "        text-align: right;\n",
       "    }\n",
       "</style>\n",
       "<table border=\"1\" class=\"dataframe\">\n",
       "  <thead>\n",
       "    <tr style=\"text-align: right;\">\n",
       "      <th></th>\n",
       "      <th>Country</th>\n",
       "      <th>EdLevel</th>\n",
       "      <th>YearsCodePro</th>\n",
       "      <th>Employment</th>\n",
       "      <th>Salary</th>\n",
       "    </tr>\n",
       "  </thead>\n",
       "  <tbody>\n",
       "    <tr>\n",
       "      <th>0</th>\n",
       "      <td>12</td>\n",
       "      <td>3</td>\n",
       "      <td>5</td>\n",
       "      <td>2</td>\n",
       "      <td>40205.0</td>\n",
       "    </tr>\n",
       "    <tr>\n",
       "      <th>1</th>\n",
       "      <td>8</td>\n",
       "      <td>1</td>\n",
       "      <td>17</td>\n",
       "      <td>2</td>\n",
       "      <td>215232.0</td>\n",
       "    </tr>\n",
       "    <tr>\n",
       "      <th>2</th>\n",
       "      <td>7</td>\n",
       "      <td>3</td>\n",
       "      <td>6</td>\n",
       "      <td>2</td>\n",
       "      <td>49056.0</td>\n",
       "    </tr>\n",
       "    <tr>\n",
       "      <th>3</th>\n",
       "      <td>12</td>\n",
       "      <td>1</td>\n",
       "      <td>2</td>\n",
       "      <td>2</td>\n",
       "      <td>60307.0</td>\n",
       "    </tr>\n",
       "    <tr>\n",
       "      <th>4</th>\n",
       "      <td>13</td>\n",
       "      <td>1</td>\n",
       "      <td>10</td>\n",
       "      <td>2</td>\n",
       "      <td>194400.0</td>\n",
       "    </tr>\n",
       "  </tbody>\n",
       "</table>\n",
       "</div>"
      ],
      "text/plain": [
       "   Country  EdLevel  YearsCodePro  Employment    Salary\n",
       "0       12        3             5           2   40205.0\n",
       "1        8        1            17           2  215232.0\n",
       "2        7        3             6           2   49056.0\n",
       "3       12        1             2           2   60307.0\n",
       "4       13        1            10           2  194400.0"
      ]
     },
     "execution_count": 184,
     "metadata": {},
     "output_type": "execute_result"
    }
   ],
   "source": [
    "df.to_csv('survey_results_public_clean.csv', index=False)\n",
    "\n",
    "df = pd.read_csv('survey_results_public_clean.csv')\n",
    "df.head()"
   ]
  },
  {
   "attachments": {},
   "cell_type": "markdown",
   "metadata": {},
   "source": [
    "# Data Modelling"
   ]
  },
  {
   "cell_type": "code",
   "execution_count": 186,
   "metadata": {},
   "outputs": [],
   "source": [
    "X = df.drop('Salary', axis=1)\n",
    "y = df['Salary']"
   ]
  }
 ],
 "metadata": {
  "kernelspec": {
   "display_name": "base",
   "language": "python",
   "name": "python3"
  },
  "language_info": {
   "codemirror_mode": {
    "name": "ipython",
    "version": 3
   },
   "file_extension": ".py",
   "mimetype": "text/x-python",
   "name": "python",
   "nbconvert_exporter": "python",
   "pygments_lexer": "ipython3",
   "version": "3.9.12"
  },
  "orig_nbformat": 4
 },
 "nbformat": 4,
 "nbformat_minor": 2
}
