{
 "cells": [
  {
   "attachments": {},
   "cell_type": "markdown",
   "metadata": {},
   "source": [
    "# Data Preparation and Preprocessing"
   ]
  },
  {
   "cell_type": "code",
   "execution_count": 548,
   "metadata": {},
   "outputs": [],
   "source": [
    "import pandas as pd\n",
    "import matplotlib.pyplot as plt\n",
    "import numpy as np\n",
    "import pickle\n",
    "import torch\n",
    "\n",
    "from sklearn.preprocessing import LabelEncoder\n",
    "from sklearn.model_selection import train_test_split\n",
    "from sklearn.linear_model import LinearRegression\n",
    "from sklearn.tree import DecisionTreeRegressor\n",
    "from sklearn.ensemble import RandomForestRegressor\n",
    "from sklearn.model_selection import GridSearchCV\n",
    "from sklearn.metrics import mean_squared_error, mean_absolute_error\n",
    "\n",
    "from datetime import datetime\n",
    "\n",
    "from torch import nn"
   ]
  },
  {
   "cell_type": "code",
   "execution_count": 549,
   "metadata": {},
   "outputs": [
    {
     "data": {
      "text/html": [
       "<div>\n",
       "<style scoped>\n",
       "    .dataframe tbody tr th:only-of-type {\n",
       "        vertical-align: middle;\n",
       "    }\n",
       "\n",
       "    .dataframe tbody tr th {\n",
       "        vertical-align: top;\n",
       "    }\n",
       "\n",
       "    .dataframe thead th {\n",
       "        text-align: right;\n",
       "    }\n",
       "</style>\n",
       "<table border=\"1\" class=\"dataframe\">\n",
       "  <thead>\n",
       "    <tr style=\"text-align: right;\">\n",
       "      <th></th>\n",
       "      <th>Unnamed: 0</th>\n",
       "      <th>Country</th>\n",
       "      <th>EdLevel</th>\n",
       "      <th>YearsCodePro</th>\n",
       "      <th>Employment</th>\n",
       "      <th>Salary</th>\n",
       "    </tr>\n",
       "  </thead>\n",
       "  <tbody>\n",
       "    <tr>\n",
       "      <th>0</th>\n",
       "      <td>2</td>\n",
       "      <td>United Kingdom of Great Britain and Northern I...</td>\n",
       "      <td>Master’s degree (M.A., M.S., M.Eng., MBA, etc.)</td>\n",
       "      <td>5</td>\n",
       "      <td>Employed, full-time</td>\n",
       "      <td>40205.0</td>\n",
       "    </tr>\n",
       "    <tr>\n",
       "      <th>1</th>\n",
       "      <td>3</td>\n",
       "      <td>Israel</td>\n",
       "      <td>Bachelor’s degree (B.A., B.S., B.Eng., etc.)</td>\n",
       "      <td>17</td>\n",
       "      <td>Employed, full-time</td>\n",
       "      <td>215232.0</td>\n",
       "    </tr>\n",
       "    <tr>\n",
       "      <th>2</th>\n",
       "      <td>8</td>\n",
       "      <td>Netherlands</td>\n",
       "      <td>Master’s degree (M.A., M.S., M.Eng., MBA, etc.)</td>\n",
       "      <td>6</td>\n",
       "      <td>Employed, full-time</td>\n",
       "      <td>49056.0</td>\n",
       "    </tr>\n",
       "    <tr>\n",
       "      <th>3</th>\n",
       "      <td>10</td>\n",
       "      <td>United Kingdom of Great Britain and Northern I...</td>\n",
       "      <td>Bachelor’s degree (B.A., B.S., B.Eng., etc.)</td>\n",
       "      <td>2</td>\n",
       "      <td>Employed, full-time</td>\n",
       "      <td>60307.0</td>\n",
       "    </tr>\n",
       "    <tr>\n",
       "      <th>4</th>\n",
       "      <td>11</td>\n",
       "      <td>United States of America</td>\n",
       "      <td>Bachelor’s degree (B.A., B.S., B.Eng., etc.)</td>\n",
       "      <td>10</td>\n",
       "      <td>Employed, full-time;Independent contractor, fr...</td>\n",
       "      <td>194400.0</td>\n",
       "    </tr>\n",
       "    <tr>\n",
       "      <th>...</th>\n",
       "      <td>...</td>\n",
       "      <td>...</td>\n",
       "      <td>...</td>\n",
       "      <td>...</td>\n",
       "      <td>...</td>\n",
       "      <td>...</td>\n",
       "    </tr>\n",
       "    <tr>\n",
       "      <th>37914</th>\n",
       "      <td>73116</td>\n",
       "      <td>United States of America</td>\n",
       "      <td>Bachelor’s degree (B.A., B.S., B.Eng., etc.)</td>\n",
       "      <td>16</td>\n",
       "      <td>Employed, full-time</td>\n",
       "      <td>115000.0</td>\n",
       "    </tr>\n",
       "    <tr>\n",
       "      <th>37915</th>\n",
       "      <td>73118</td>\n",
       "      <td>Nigeria</td>\n",
       "      <td>Bachelor’s degree (B.A., B.S., B.Eng., etc.)</td>\n",
       "      <td>3</td>\n",
       "      <td>Employed, full-time</td>\n",
       "      <td>57720.0</td>\n",
       "    </tr>\n",
       "    <tr>\n",
       "      <th>37916</th>\n",
       "      <td>73119</td>\n",
       "      <td>United States of America</td>\n",
       "      <td>Bachelor’s degree (B.A., B.S., B.Eng., etc.)</td>\n",
       "      <td>1</td>\n",
       "      <td>Employed, full-time</td>\n",
       "      <td>70000.0</td>\n",
       "    </tr>\n",
       "    <tr>\n",
       "      <th>37917</th>\n",
       "      <td>73120</td>\n",
       "      <td>Spain</td>\n",
       "      <td>Bachelor’s degree (B.A., B.S., B.Eng., etc.)</td>\n",
       "      <td>2</td>\n",
       "      <td>Employed, full-time</td>\n",
       "      <td>35192.0</td>\n",
       "    </tr>\n",
       "    <tr>\n",
       "      <th>37918</th>\n",
       "      <td>73121</td>\n",
       "      <td>United Kingdom of Great Britain and Northern I...</td>\n",
       "      <td>Master’s degree (M.A., M.S., M.Eng., MBA, etc.)</td>\n",
       "      <td>3</td>\n",
       "      <td>Employed, full-time</td>\n",
       "      <td>75384.0</td>\n",
       "    </tr>\n",
       "  </tbody>\n",
       "</table>\n",
       "<p>37919 rows × 6 columns</p>\n",
       "</div>"
      ],
      "text/plain": [
       "       Unnamed: 0                                            Country  \\\n",
       "0               2  United Kingdom of Great Britain and Northern I...   \n",
       "1               3                                             Israel   \n",
       "2               8                                        Netherlands   \n",
       "3              10  United Kingdom of Great Britain and Northern I...   \n",
       "4              11                           United States of America   \n",
       "...           ...                                                ...   \n",
       "37914       73116                           United States of America   \n",
       "37915       73118                                            Nigeria   \n",
       "37916       73119                           United States of America   \n",
       "37917       73120                                              Spain   \n",
       "37918       73121  United Kingdom of Great Britain and Northern I...   \n",
       "\n",
       "                                               EdLevel YearsCodePro  \\\n",
       "0      Master’s degree (M.A., M.S., M.Eng., MBA, etc.)            5   \n",
       "1         Bachelor’s degree (B.A., B.S., B.Eng., etc.)           17   \n",
       "2      Master’s degree (M.A., M.S., M.Eng., MBA, etc.)            6   \n",
       "3         Bachelor’s degree (B.A., B.S., B.Eng., etc.)            2   \n",
       "4         Bachelor’s degree (B.A., B.S., B.Eng., etc.)           10   \n",
       "...                                                ...          ...   \n",
       "37914     Bachelor’s degree (B.A., B.S., B.Eng., etc.)           16   \n",
       "37915     Bachelor’s degree (B.A., B.S., B.Eng., etc.)            3   \n",
       "37916     Bachelor’s degree (B.A., B.S., B.Eng., etc.)            1   \n",
       "37917     Bachelor’s degree (B.A., B.S., B.Eng., etc.)            2   \n",
       "37918  Master’s degree (M.A., M.S., M.Eng., MBA, etc.)            3   \n",
       "\n",
       "                                              Employment    Salary  \n",
       "0                                    Employed, full-time   40205.0  \n",
       "1                                    Employed, full-time  215232.0  \n",
       "2                                    Employed, full-time   49056.0  \n",
       "3                                    Employed, full-time   60307.0  \n",
       "4      Employed, full-time;Independent contractor, fr...  194400.0  \n",
       "...                                                  ...       ...  \n",
       "37914                                Employed, full-time  115000.0  \n",
       "37915                                Employed, full-time   57720.0  \n",
       "37916                                Employed, full-time   70000.0  \n",
       "37917                                Employed, full-time   35192.0  \n",
       "37918                                Employed, full-time   75384.0  \n",
       "\n",
       "[37919 rows x 6 columns]"
      ]
     },
     "execution_count": 549,
     "metadata": {},
     "output_type": "execute_result"
    }
   ],
   "source": [
    "df = pd.read_csv('survey_results_public.csv')\n",
    "df"
   ]
  },
  {
   "cell_type": "code",
   "execution_count": 550,
   "metadata": {},
   "outputs": [
    {
     "data": {
      "text/html": [
       "<div>\n",
       "<style scoped>\n",
       "    .dataframe tbody tr th:only-of-type {\n",
       "        vertical-align: middle;\n",
       "    }\n",
       "\n",
       "    .dataframe tbody tr th {\n",
       "        vertical-align: top;\n",
       "    }\n",
       "\n",
       "    .dataframe thead th {\n",
       "        text-align: right;\n",
       "    }\n",
       "</style>\n",
       "<table border=\"1\" class=\"dataframe\">\n",
       "  <thead>\n",
       "    <tr style=\"text-align: right;\">\n",
       "      <th></th>\n",
       "      <th>Country</th>\n",
       "      <th>EdLevel</th>\n",
       "      <th>YearsCodePro</th>\n",
       "      <th>Employment</th>\n",
       "      <th>Salary</th>\n",
       "    </tr>\n",
       "  </thead>\n",
       "  <tbody>\n",
       "    <tr>\n",
       "      <th>0</th>\n",
       "      <td>United Kingdom of Great Britain and Northern I...</td>\n",
       "      <td>Master’s degree (M.A., M.S., M.Eng., MBA, etc.)</td>\n",
       "      <td>5</td>\n",
       "      <td>Employed, full-time</td>\n",
       "      <td>40205.0</td>\n",
       "    </tr>\n",
       "    <tr>\n",
       "      <th>1</th>\n",
       "      <td>Israel</td>\n",
       "      <td>Bachelor’s degree (B.A., B.S., B.Eng., etc.)</td>\n",
       "      <td>17</td>\n",
       "      <td>Employed, full-time</td>\n",
       "      <td>215232.0</td>\n",
       "    </tr>\n",
       "    <tr>\n",
       "      <th>2</th>\n",
       "      <td>Netherlands</td>\n",
       "      <td>Master’s degree (M.A., M.S., M.Eng., MBA, etc.)</td>\n",
       "      <td>6</td>\n",
       "      <td>Employed, full-time</td>\n",
       "      <td>49056.0</td>\n",
       "    </tr>\n",
       "    <tr>\n",
       "      <th>3</th>\n",
       "      <td>United Kingdom of Great Britain and Northern I...</td>\n",
       "      <td>Bachelor’s degree (B.A., B.S., B.Eng., etc.)</td>\n",
       "      <td>2</td>\n",
       "      <td>Employed, full-time</td>\n",
       "      <td>60307.0</td>\n",
       "    </tr>\n",
       "    <tr>\n",
       "      <th>4</th>\n",
       "      <td>United States of America</td>\n",
       "      <td>Bachelor’s degree (B.A., B.S., B.Eng., etc.)</td>\n",
       "      <td>10</td>\n",
       "      <td>Employed, full-time;Independent contractor, fr...</td>\n",
       "      <td>194400.0</td>\n",
       "    </tr>\n",
       "  </tbody>\n",
       "</table>\n",
       "</div>"
      ],
      "text/plain": [
       "                                             Country  \\\n",
       "0  United Kingdom of Great Britain and Northern I...   \n",
       "1                                             Israel   \n",
       "2                                        Netherlands   \n",
       "3  United Kingdom of Great Britain and Northern I...   \n",
       "4                           United States of America   \n",
       "\n",
       "                                           EdLevel YearsCodePro  \\\n",
       "0  Master’s degree (M.A., M.S., M.Eng., MBA, etc.)            5   \n",
       "1     Bachelor’s degree (B.A., B.S., B.Eng., etc.)           17   \n",
       "2  Master’s degree (M.A., M.S., M.Eng., MBA, etc.)            6   \n",
       "3     Bachelor’s degree (B.A., B.S., B.Eng., etc.)            2   \n",
       "4     Bachelor’s degree (B.A., B.S., B.Eng., etc.)           10   \n",
       "\n",
       "                                          Employment    Salary  \n",
       "0                                Employed, full-time   40205.0  \n",
       "1                                Employed, full-time  215232.0  \n",
       "2                                Employed, full-time   49056.0  \n",
       "3                                Employed, full-time   60307.0  \n",
       "4  Employed, full-time;Independent contractor, fr...  194400.0  "
      ]
     },
     "execution_count": 550,
     "metadata": {},
     "output_type": "execute_result"
    }
   ],
   "source": [
    "# Drop kolom unamed\n",
    "df.drop('Unnamed: 0', axis=1, inplace=True)\n",
    "df.head()"
   ]
  },
  {
   "cell_type": "code",
   "execution_count": 551,
   "metadata": {},
   "outputs": [
    {
     "name": "stdout",
     "output_type": "stream",
     "text": [
      "<class 'pandas.core.frame.DataFrame'>\n",
      "RangeIndex: 37919 entries, 0 to 37918\n",
      "Data columns (total 5 columns):\n",
      " #   Column        Non-Null Count  Dtype  \n",
      "---  ------        --------------  -----  \n",
      " 0   Country       37919 non-null  object \n",
      " 1   EdLevel       37919 non-null  object \n",
      " 2   YearsCodePro  37919 non-null  object \n",
      " 3   Employment    37919 non-null  object \n",
      " 4   Salary        37919 non-null  float64\n",
      "dtypes: float64(1), object(4)\n",
      "memory usage: 1.4+ MB\n"
     ]
    }
   ],
   "source": [
    "df.info()"
   ]
  },
  {
   "cell_type": "code",
   "execution_count": 552,
   "metadata": {},
   "outputs": [
    {
     "data": {
      "text/plain": [
       "(37919, 5)"
      ]
     },
     "execution_count": 552,
     "metadata": {},
     "output_type": "execute_result"
    }
   ],
   "source": [
    "# Ambil atribut non-null pada salary\n",
    "df = df[df['Salary'].notnull()]\n",
    "df.shape"
   ]
  },
  {
   "cell_type": "code",
   "execution_count": 553,
   "metadata": {},
   "outputs": [
    {
     "data": {
      "text/plain": [
       "Country         0\n",
       "EdLevel         0\n",
       "YearsCodePro    0\n",
       "Employment      0\n",
       "Salary          0\n",
       "dtype: int64"
      ]
     },
     "execution_count": 553,
     "metadata": {},
     "output_type": "execute_result"
    }
   ],
   "source": [
    "df = df.dropna()\n",
    "df.isnull().sum()"
   ]
  },
  {
   "attachments": {},
   "cell_type": "markdown",
   "metadata": {},
   "source": [
    "## Preparation Employment Column"
   ]
  },
  {
   "cell_type": "code",
   "execution_count": 554,
   "metadata": {},
   "outputs": [
    {
     "data": {
      "text/plain": [
       "Employed, full-time                                                                             31382\n",
       "Independent contractor, freelancer, or self-employed                                             2739\n",
       "Employed, full-time;Independent contractor, freelancer, or self-employed                         2633\n",
       "Employed, part-time                                                                               632\n",
       "Independent contractor, freelancer, or self-employed;Employed, part-time                          207\n",
       "Employed, full-time;Employed, part-time                                                           151\n",
       "Employed, full-time;Independent contractor, freelancer, or self-employed;Employed, part-time      118\n",
       "I prefer not to say                                                                                27\n",
       "Retired                                                                                            18\n",
       "Employed, part-time;Retired                                                                         5\n",
       "Independent contractor, freelancer, or self-employed;Retired                                        3\n",
       "Employed, full-time;Independent contractor, freelancer, or self-employed;Retired                    3\n",
       "Employed, full-time;Retired                                                                         1\n",
       "Name: Employment, dtype: int64"
      ]
     },
     "execution_count": 554,
     "metadata": {},
     "output_type": "execute_result"
    }
   ],
   "source": [
    "df['Employment'].value_counts()"
   ]
  },
  {
   "cell_type": "code",
   "execution_count": 555,
   "metadata": {},
   "outputs": [
    {
     "data": {
      "text/plain": [
       "Employed, full-time                                                                             31382\n",
       "Independent contractor, freelancer, or self-employed                                             2739\n",
       "Employed, full-time;Independent contractor, freelancer, or self-employed                         2633\n",
       "Employed, part-time                                                                               632\n",
       "Independent contractor, freelancer, or self-employed;Employed, part-time                          207\n",
       "Employed, full-time;Employed, part-time                                                           151\n",
       "Employed, full-time;Independent contractor, freelancer, or self-employed;Employed, part-time      118\n",
       "Name: Employment, dtype: int64"
      ]
     },
     "execution_count": 555,
     "metadata": {},
     "output_type": "execute_result"
    }
   ],
   "source": [
    "df = df[df['Employment'] != 'I prefer not to say']\n",
    "df = df[~df['Employment'].str.contains('retired', case=False)]\n",
    "\n",
    "df['Employment'].value_counts()"
   ]
  },
  {
   "cell_type": "code",
   "execution_count": 556,
   "metadata": {},
   "outputs": [
    {
     "data": {
      "text/plain": [
       "Employed                            34916\n",
       "full-time                           31382\n",
       "freelancer                           5697\n",
       "or self-employed                     5372\n",
       "Independent contractor               2946\n",
       "full-time;Independent contractor     2751\n",
       "part-time                            1108\n",
       "or self-employed;Employed             325\n",
       "full-time;Employed                    151\n",
       "Name: Employment, dtype: int64"
      ]
     },
     "execution_count": 556,
     "metadata": {},
     "output_type": "execute_result"
    }
   ],
   "source": [
    "# Pisahkan ke baris baru dipisahkan dengan koma pada kolom Employment\n",
    "df['Employment'] = df['Employment'].str.split(', ')\n",
    "# Pisahkan ke baris baru\n",
    "df = df.explode('Employment')\n",
    "df['Employment'].value_counts()"
   ]
  },
  {
   "cell_type": "code",
   "execution_count": 557,
   "metadata": {},
   "outputs": [
    {
     "data": {
      "text/plain": [
       "Employed                  35392\n",
       "full-time                 34284\n",
       "Independent contractor     5697\n",
       "freelancer                 5697\n",
       "or self-employed           5697\n",
       "part-time                  1108\n",
       "Name: Employment, dtype: int64"
      ]
     },
     "execution_count": 557,
     "metadata": {},
     "output_type": "execute_result"
    }
   ],
   "source": [
    "# Pisahkan ke baris baru dipisahkan dengan titik koma pada kolom Employment\n",
    "df['Employment'] = df['Employment'].str.split(';')\n",
    "# Pisahkan ke baris baru\n",
    "df = df.explode('Employment')\n",
    "df['Employment'].value_counts()"
   ]
  },
  {
   "cell_type": "code",
   "execution_count": 558,
   "metadata": {},
   "outputs": [
    {
     "data": {
      "text/plain": [
       "Employed                  35392\n",
       "full-time                 34284\n",
       "Independent contractor     5697\n",
       "freelancer                 5697\n",
       "self-employed              5697\n",
       "part-time                  1108\n",
       "Name: Employment, dtype: int64"
      ]
     },
     "execution_count": 558,
     "metadata": {},
     "output_type": "execute_result"
    }
   ],
   "source": [
    "# Menghilangkan kata or pada nilai or self-employed\n",
    "df['Employment'] = df['Employment'].str.replace('or ', '')\n",
    "df['Employment'].value_counts()"
   ]
  },
  {
   "cell_type": "code",
   "execution_count": 559,
   "metadata": {},
   "outputs": [
    {
     "data": {
      "text/plain": [
       "full-time     34284\n",
       "freelancer     5697\n",
       "part-time      1108\n",
       "Name: Employment, dtype: int64"
      ]
     },
     "execution_count": 559,
     "metadata": {},
     "output_type": "execute_result"
    }
   ],
   "source": [
    "# Drop kolom dengan nilai employment = employed\n",
    "df = df[df['Employment'] != 'Employed']\n",
    "df = df[df['Employment'] != 'Independent contractor']\n",
    "df = df[df['Employment'] != 'self-employed']\n",
    "df['Employment'].value_counts()"
   ]
  },
  {
   "attachments": {},
   "cell_type": "markdown",
   "metadata": {},
   "source": [
    "## Preparation Country Column"
   ]
  },
  {
   "cell_type": "code",
   "execution_count": 560,
   "metadata": {},
   "outputs": [
    {
     "data": {
      "text/plain": [
       "United States of America                                9118\n",
       "Germany                                                 3088\n",
       "United Kingdom of Great Britain and Northern Ireland    2746\n",
       "India                                                   2352\n",
       "Canada                                                  1600\n",
       "                                                        ... \n",
       "Fiji                                                       1\n",
       "Palau                                                      1\n",
       "Monaco                                                     1\n",
       "Saint Lucia                                                1\n",
       "Seychelles                                                 1\n",
       "Name: Country, Length: 159, dtype: int64"
      ]
     },
     "execution_count": 560,
     "metadata": {},
     "output_type": "execute_result"
    }
   ],
   "source": [
    "df['Country'].value_counts()"
   ]
  },
  {
   "cell_type": "code",
   "execution_count": 561,
   "metadata": {},
   "outputs": [],
   "source": [
    "# Melakukan filter pada kolom Country jika nilai kurang dari cutoff\n",
    "def convert_to_categories(categories, cutoff):\n",
    "    categorical_map = {}\n",
    "    for i in range(len(categories.value_counts())):\n",
    "        if categories.value_counts().iloc[i] > cutoff:\n",
    "            categorical_map[categories.value_counts().index[i]] = categories.value_counts().index[i]\n",
    "        else:\n",
    "            categorical_map[categories.value_counts().index[i]] = 'Other'\n",
    "    return categories.map(categorical_map)"
   ]
  },
  {
   "cell_type": "code",
   "execution_count": 562,
   "metadata": {},
   "outputs": [
    {
     "data": {
      "text/plain": [
       "Other                                                   14388\n",
       "United States of America                                 9118\n",
       "Germany                                                  3088\n",
       "United Kingdom of Great Britain and Northern Ireland     2746\n",
       "India                                                    2352\n",
       "Canada                                                   1600\n",
       "France                                                   1454\n",
       "Brazil                                                   1438\n",
       "Poland                                                   1158\n",
       "Spain                                                    1059\n",
       "Netherlands                                               955\n",
       "Australia                                                 877\n",
       "Italy                                                     856\n",
       "Name: Country, dtype: int64"
      ]
     },
     "execution_count": 562,
     "metadata": {},
     "output_type": "execute_result"
    }
   ],
   "source": [
    "df['Country'] = convert_to_categories(df['Country'], 800)\n",
    "df['Country'].value_counts()"
   ]
  },
  {
   "attachments": {},
   "cell_type": "markdown",
   "metadata": {},
   "source": [
    "## Preparation YearsCodePro Column"
   ]
  },
  {
   "cell_type": "code",
   "execution_count": 563,
   "metadata": {},
   "outputs": [
    {
     "name": "stdout",
     "output_type": "stream",
     "text": [
      "<class 'pandas.core.frame.DataFrame'>\n",
      "Int64Index: 41089 entries, 0 to 37918\n",
      "Data columns (total 5 columns):\n",
      " #   Column        Non-Null Count  Dtype  \n",
      "---  ------        --------------  -----  \n",
      " 0   Country       41089 non-null  object \n",
      " 1   EdLevel       41089 non-null  object \n",
      " 2   YearsCodePro  41089 non-null  int32  \n",
      " 3   Employment    41089 non-null  object \n",
      " 4   Salary        41089 non-null  float64\n",
      "dtypes: float64(1), int32(1), object(3)\n",
      "memory usage: 1.7+ MB\n"
     ]
    }
   ],
   "source": [
    "df['YearsCodePro'] = df['YearsCodePro'].replace({'Less than 1 year': 0, 'More than 50 years': 51}).astype(int)\n",
    "df.info()"
   ]
  },
  {
   "cell_type": "code",
   "execution_count": 564,
   "metadata": {},
   "outputs": [
    {
     "data": {
      "text/plain": [
       "array([ 5, 17,  6,  2, 10,  4, 22, 20,  9, 14, 21, 15,  3, 25,  7,  8, 12,\n",
       "       19,  1, 28, 24, 11, 23, 45,  0, 18, 40, 37, 46, 13, 32, 31, 39, 27,\n",
       "       16, 26, 30, 34, 35, 29, 42, 38, 36, 43, 41, 44, 48, 33, 51, 50, 47,\n",
       "       49])"
      ]
     },
     "execution_count": 564,
     "metadata": {},
     "output_type": "execute_result"
    }
   ],
   "source": [
    "df['YearsCodePro'].unique()"
   ]
  },
  {
   "attachments": {},
   "cell_type": "markdown",
   "metadata": {},
   "source": [
    "## Preparation EdLevel Column"
   ]
  },
  {
   "cell_type": "code",
   "execution_count": 565,
   "metadata": {},
   "outputs": [
    {
     "data": {
      "text/plain": [
       "Bachelor’s degree (B.A., B.S., B.Eng., etc.)                                          19425\n",
       "Master’s degree (M.A., M.S., M.Eng., MBA, etc.)                                       10639\n",
       "Some college/university study without earning a degree                                 4956\n",
       "Secondary school (e.g. American high school, German Realschule or Gymnasium, etc.)     1933\n",
       "Other doctoral degree (Ph.D., Ed.D., etc.)                                             1440\n",
       "Associate degree (A.A., A.S., etc.)                                                    1392\n",
       "Professional degree (JD, MD, etc.)                                                      674\n",
       "Something else                                                                          389\n",
       "Primary/elementary school                                                               241\n",
       "Name: EdLevel, dtype: int64"
      ]
     },
     "execution_count": 565,
     "metadata": {},
     "output_type": "execute_result"
    }
   ],
   "source": [
    "df['EdLevel'].value_counts()"
   ]
  },
  {
   "cell_type": "code",
   "execution_count": 566,
   "metadata": {},
   "outputs": [
    {
     "data": {
      "text/plain": [
       "Bachelor            19425\n",
       "Master              10639\n",
       "Other degree         5345\n",
       "Secondary school     1933\n",
       "Doctoral             1440\n",
       "Associate            1392\n",
       "Professional          674\n",
       "Primary school        241\n",
       "Name: EdLevel, dtype: int64"
      ]
     },
     "execution_count": 566,
     "metadata": {},
     "output_type": "execute_result"
    }
   ],
   "source": [
    "def education_converter(x):\n",
    "    if 'Bachelor’s degree' in x:\n",
    "        return 'Bachelor'\n",
    "    elif 'Master’s degree' in x:\n",
    "        return 'Master'\n",
    "    elif 'Associate degree' in x:\n",
    "        return 'Associate'\n",
    "    elif 'Professional degree' in x:\n",
    "        return 'Professional'\n",
    "    elif 'Other doctoral degree' in x:\n",
    "        return 'Doctoral'\n",
    "    elif 'Secondary school' in x:\n",
    "        return 'Secondary school'\n",
    "    elif 'Primary' in x:\n",
    "        return 'Primary school'\n",
    "    else:\n",
    "        return 'Other degree'\n",
    "    \n",
    "df['EdLevel'] = df['EdLevel'].apply(education_converter)\n",
    "df['EdLevel'].value_counts()"
   ]
  },
  {
   "attachments": {},
   "cell_type": "markdown",
   "metadata": {},
   "source": [
    "## Summary"
   ]
  },
  {
   "cell_type": "code",
   "execution_count": 567,
   "metadata": {},
   "outputs": [
    {
     "data": {
      "text/plain": [
       "Other                                                   14388\n",
       "United States of America                                 9118\n",
       "Germany                                                  3088\n",
       "United Kingdom of Great Britain and Northern Ireland     2746\n",
       "India                                                    2352\n",
       "Canada                                                   1600\n",
       "France                                                   1454\n",
       "Brazil                                                   1438\n",
       "Poland                                                   1158\n",
       "Spain                                                    1059\n",
       "Netherlands                                               955\n",
       "Australia                                                 877\n",
       "Italy                                                     856\n",
       "Name: Country, dtype: int64"
      ]
     },
     "execution_count": 567,
     "metadata": {},
     "output_type": "execute_result"
    }
   ],
   "source": [
    "df['Country'].value_counts()"
   ]
  },
  {
   "cell_type": "code",
   "execution_count": 568,
   "metadata": {},
   "outputs": [
    {
     "data": {
      "text/plain": [
       "3     3394\n",
       "5     3373\n",
       "4     3130\n",
       "2     2969\n",
       "10    2697\n",
       "6     2641\n",
       "7     2348\n",
       "8     2249\n",
       "1     1970\n",
       "15    1458\n",
       "12    1418\n",
       "0     1409\n",
       "9     1363\n",
       "11    1149\n",
       "20    1049\n",
       "14     883\n",
       "13     773\n",
       "16     732\n",
       "22     703\n",
       "18     632\n",
       "17     616\n",
       "25     613\n",
       "30     376\n",
       "23     358\n",
       "24     356\n",
       "21     334\n",
       "19     305\n",
       "26     243\n",
       "27     203\n",
       "28     183\n",
       "35     168\n",
       "32     157\n",
       "40      92\n",
       "31      90\n",
       "29      87\n",
       "36      77\n",
       "33      77\n",
       "37      77\n",
       "34      73\n",
       "38      72\n",
       "42      38\n",
       "39      32\n",
       "41      25\n",
       "43      21\n",
       "45      19\n",
       "44      14\n",
       "48       9\n",
       "51       9\n",
       "46       7\n",
       "49       7\n",
       "50       6\n",
       "47       5\n",
       "Name: YearsCodePro, dtype: int64"
      ]
     },
     "execution_count": 568,
     "metadata": {},
     "output_type": "execute_result"
    }
   ],
   "source": [
    "df['YearsCodePro'].value_counts()"
   ]
  },
  {
   "cell_type": "code",
   "execution_count": 569,
   "metadata": {},
   "outputs": [
    {
     "data": {
      "text/plain": [
       "Bachelor            19425\n",
       "Master              10639\n",
       "Other degree         5345\n",
       "Secondary school     1933\n",
       "Doctoral             1440\n",
       "Associate            1392\n",
       "Professional          674\n",
       "Primary school        241\n",
       "Name: EdLevel, dtype: int64"
      ]
     },
     "execution_count": 569,
     "metadata": {},
     "output_type": "execute_result"
    }
   ],
   "source": [
    "df['EdLevel'].value_counts()"
   ]
  },
  {
   "cell_type": "code",
   "execution_count": 570,
   "metadata": {},
   "outputs": [
    {
     "data": {
      "text/plain": [
       "full-time     34284\n",
       "freelancer     5697\n",
       "part-time      1108\n",
       "Name: Employment, dtype: int64"
      ]
     },
     "execution_count": 570,
     "metadata": {},
     "output_type": "execute_result"
    }
   ],
   "source": [
    "df['Employment'].value_counts()"
   ]
  },
  {
   "cell_type": "code",
   "execution_count": 571,
   "metadata": {},
   "outputs": [
    {
     "data": {
      "text/html": [
       "<div>\n",
       "<style scoped>\n",
       "    .dataframe tbody tr th:only-of-type {\n",
       "        vertical-align: middle;\n",
       "    }\n",
       "\n",
       "    .dataframe tbody tr th {\n",
       "        vertical-align: top;\n",
       "    }\n",
       "\n",
       "    .dataframe thead th {\n",
       "        text-align: right;\n",
       "    }\n",
       "</style>\n",
       "<table border=\"1\" class=\"dataframe\">\n",
       "  <thead>\n",
       "    <tr style=\"text-align: right;\">\n",
       "      <th></th>\n",
       "      <th>Country</th>\n",
       "      <th>EdLevel</th>\n",
       "      <th>YearsCodePro</th>\n",
       "      <th>Employment</th>\n",
       "      <th>Salary</th>\n",
       "    </tr>\n",
       "  </thead>\n",
       "  <tbody>\n",
       "    <tr>\n",
       "      <th>0</th>\n",
       "      <td>United Kingdom of Great Britain and Northern I...</td>\n",
       "      <td>Master</td>\n",
       "      <td>5</td>\n",
       "      <td>full-time</td>\n",
       "      <td>40205.0</td>\n",
       "    </tr>\n",
       "    <tr>\n",
       "      <th>1</th>\n",
       "      <td>Other</td>\n",
       "      <td>Bachelor</td>\n",
       "      <td>17</td>\n",
       "      <td>full-time</td>\n",
       "      <td>215232.0</td>\n",
       "    </tr>\n",
       "    <tr>\n",
       "      <th>2</th>\n",
       "      <td>Netherlands</td>\n",
       "      <td>Master</td>\n",
       "      <td>6</td>\n",
       "      <td>full-time</td>\n",
       "      <td>49056.0</td>\n",
       "    </tr>\n",
       "    <tr>\n",
       "      <th>3</th>\n",
       "      <td>United Kingdom of Great Britain and Northern I...</td>\n",
       "      <td>Bachelor</td>\n",
       "      <td>2</td>\n",
       "      <td>full-time</td>\n",
       "      <td>60307.0</td>\n",
       "    </tr>\n",
       "    <tr>\n",
       "      <th>4</th>\n",
       "      <td>United States of America</td>\n",
       "      <td>Bachelor</td>\n",
       "      <td>10</td>\n",
       "      <td>full-time</td>\n",
       "      <td>194400.0</td>\n",
       "    </tr>\n",
       "    <tr>\n",
       "      <th>...</th>\n",
       "      <td>...</td>\n",
       "      <td>...</td>\n",
       "      <td>...</td>\n",
       "      <td>...</td>\n",
       "      <td>...</td>\n",
       "    </tr>\n",
       "    <tr>\n",
       "      <th>37914</th>\n",
       "      <td>United States of America</td>\n",
       "      <td>Bachelor</td>\n",
       "      <td>16</td>\n",
       "      <td>full-time</td>\n",
       "      <td>115000.0</td>\n",
       "    </tr>\n",
       "    <tr>\n",
       "      <th>37915</th>\n",
       "      <td>Other</td>\n",
       "      <td>Bachelor</td>\n",
       "      <td>3</td>\n",
       "      <td>full-time</td>\n",
       "      <td>57720.0</td>\n",
       "    </tr>\n",
       "    <tr>\n",
       "      <th>37916</th>\n",
       "      <td>United States of America</td>\n",
       "      <td>Bachelor</td>\n",
       "      <td>1</td>\n",
       "      <td>full-time</td>\n",
       "      <td>70000.0</td>\n",
       "    </tr>\n",
       "    <tr>\n",
       "      <th>37917</th>\n",
       "      <td>Spain</td>\n",
       "      <td>Bachelor</td>\n",
       "      <td>2</td>\n",
       "      <td>full-time</td>\n",
       "      <td>35192.0</td>\n",
       "    </tr>\n",
       "    <tr>\n",
       "      <th>37918</th>\n",
       "      <td>United Kingdom of Great Britain and Northern I...</td>\n",
       "      <td>Master</td>\n",
       "      <td>3</td>\n",
       "      <td>full-time</td>\n",
       "      <td>75384.0</td>\n",
       "    </tr>\n",
       "  </tbody>\n",
       "</table>\n",
       "<p>41089 rows × 5 columns</p>\n",
       "</div>"
      ],
      "text/plain": [
       "                                                 Country   EdLevel  \\\n",
       "0      United Kingdom of Great Britain and Northern I...    Master   \n",
       "1                                                  Other  Bachelor   \n",
       "2                                            Netherlands    Master   \n",
       "3      United Kingdom of Great Britain and Northern I...  Bachelor   \n",
       "4                               United States of America  Bachelor   \n",
       "...                                                  ...       ...   \n",
       "37914                           United States of America  Bachelor   \n",
       "37915                                              Other  Bachelor   \n",
       "37916                           United States of America  Bachelor   \n",
       "37917                                              Spain  Bachelor   \n",
       "37918  United Kingdom of Great Britain and Northern I...    Master   \n",
       "\n",
       "       YearsCodePro Employment    Salary  \n",
       "0                 5  full-time   40205.0  \n",
       "1                17  full-time  215232.0  \n",
       "2                 6  full-time   49056.0  \n",
       "3                 2  full-time   60307.0  \n",
       "4                10  full-time  194400.0  \n",
       "...             ...        ...       ...  \n",
       "37914            16  full-time  115000.0  \n",
       "37915             3  full-time   57720.0  \n",
       "37916             1  full-time   70000.0  \n",
       "37917             2  full-time   35192.0  \n",
       "37918             3  full-time   75384.0  \n",
       "\n",
       "[41089 rows x 5 columns]"
      ]
     },
     "execution_count": 571,
     "metadata": {},
     "output_type": "execute_result"
    }
   ],
   "source": [
    "df"
   ]
  },
  {
   "attachments": {},
   "cell_type": "markdown",
   "metadata": {},
   "source": [
    "## Convert Data to New Data Transformation"
   ]
  },
  {
   "cell_type": "code",
   "execution_count": 572,
   "metadata": {},
   "outputs": [],
   "source": [
    "# convert ke csv file\n",
    "df.to_csv('survey_results_public_preprocessing.csv', index=False)"
   ]
  },
  {
   "attachments": {},
   "cell_type": "markdown",
   "metadata": {},
   "source": [
    "## Preprocessing Data"
   ]
  },
  {
   "cell_type": "code",
   "execution_count": 573,
   "metadata": {},
   "outputs": [
    {
     "name": "stdout",
     "output_type": "stream",
     "text": [
      "['Associate' 'Bachelor' 'Doctoral' 'Master' 'Other degree'\n",
      " 'Primary school' 'Professional' 'Secondary school']\n",
      "[3 1 7 4 0 6 2 5]\n"
     ]
    }
   ],
   "source": [
    "ed_encoder = LabelEncoder()\n",
    "df['EdLevel'] = ed_encoder.fit_transform(np.ravel(df[['EdLevel']].values))\n",
    "print(ed_encoder.classes_)\n",
    "print(df['EdLevel'].unique())"
   ]
  },
  {
   "cell_type": "code",
   "execution_count": 574,
   "metadata": {},
   "outputs": [
    {
     "name": "stdout",
     "output_type": "stream",
     "text": [
      "['Australia' 'Brazil' 'Canada' 'France' 'Germany' 'India' 'Italy'\n",
      " 'Netherlands' 'Other' 'Poland' 'Spain'\n",
      " 'United Kingdom of Great Britain and Northern Ireland'\n",
      " 'United States of America']\n",
      "[11  8  7 12  6  2  4  9  3  1 10  5  0]\n"
     ]
    }
   ],
   "source": [
    "country_encoder = LabelEncoder()\n",
    "df['Country'] = country_encoder.fit_transform(np.ravel(df[['Country']].values))\n",
    "print(country_encoder.classes_)\n",
    "print(df['Country'].unique())"
   ]
  },
  {
   "cell_type": "code",
   "execution_count": 575,
   "metadata": {},
   "outputs": [
    {
     "name": "stdout",
     "output_type": "stream",
     "text": [
      "['freelancer' 'full-time' 'part-time']\n",
      "[1 0 2]\n"
     ]
    }
   ],
   "source": [
    "employment_encoder = LabelEncoder()\n",
    "df['Employment'] = employment_encoder.fit_transform(np.ravel(df[['Employment']].values))\n",
    "print(employment_encoder.classes_)\n",
    "print(df['Employment'].unique())"
   ]
  },
  {
   "cell_type": "code",
   "execution_count": 576,
   "metadata": {},
   "outputs": [
    {
     "data": {
      "text/html": [
       "<div>\n",
       "<style scoped>\n",
       "    .dataframe tbody tr th:only-of-type {\n",
       "        vertical-align: middle;\n",
       "    }\n",
       "\n",
       "    .dataframe tbody tr th {\n",
       "        vertical-align: top;\n",
       "    }\n",
       "\n",
       "    .dataframe thead th {\n",
       "        text-align: right;\n",
       "    }\n",
       "</style>\n",
       "<table border=\"1\" class=\"dataframe\">\n",
       "  <thead>\n",
       "    <tr style=\"text-align: right;\">\n",
       "      <th></th>\n",
       "      <th>Country</th>\n",
       "      <th>EdLevel</th>\n",
       "      <th>YearsCodePro</th>\n",
       "      <th>Employment</th>\n",
       "      <th>Salary</th>\n",
       "    </tr>\n",
       "  </thead>\n",
       "  <tbody>\n",
       "    <tr>\n",
       "      <th>0</th>\n",
       "      <td>11</td>\n",
       "      <td>3</td>\n",
       "      <td>5</td>\n",
       "      <td>1</td>\n",
       "      <td>40205.0</td>\n",
       "    </tr>\n",
       "    <tr>\n",
       "      <th>1</th>\n",
       "      <td>8</td>\n",
       "      <td>1</td>\n",
       "      <td>17</td>\n",
       "      <td>1</td>\n",
       "      <td>215232.0</td>\n",
       "    </tr>\n",
       "    <tr>\n",
       "      <th>2</th>\n",
       "      <td>7</td>\n",
       "      <td>3</td>\n",
       "      <td>6</td>\n",
       "      <td>1</td>\n",
       "      <td>49056.0</td>\n",
       "    </tr>\n",
       "    <tr>\n",
       "      <th>3</th>\n",
       "      <td>11</td>\n",
       "      <td>1</td>\n",
       "      <td>2</td>\n",
       "      <td>1</td>\n",
       "      <td>60307.0</td>\n",
       "    </tr>\n",
       "    <tr>\n",
       "      <th>4</th>\n",
       "      <td>12</td>\n",
       "      <td>1</td>\n",
       "      <td>10</td>\n",
       "      <td>1</td>\n",
       "      <td>194400.0</td>\n",
       "    </tr>\n",
       "  </tbody>\n",
       "</table>\n",
       "</div>"
      ],
      "text/plain": [
       "   Country  EdLevel  YearsCodePro  Employment    Salary\n",
       "0       11        3             5           1   40205.0\n",
       "1        8        1            17           1  215232.0\n",
       "2        7        3             6           1   49056.0\n",
       "3       11        1             2           1   60307.0\n",
       "4       12        1            10           1  194400.0"
      ]
     },
     "execution_count": 576,
     "metadata": {},
     "output_type": "execute_result"
    }
   ],
   "source": [
    "df.head()"
   ]
  },
  {
   "attachments": {},
   "cell_type": "markdown",
   "metadata": {},
   "source": [
    "# Data Modelling"
   ]
  },
  {
   "cell_type": "code",
   "execution_count": 577,
   "metadata": {},
   "outputs": [],
   "source": [
    "X = df.drop('Salary', axis=1)\n",
    "y = df['Salary']"
   ]
  },
  {
   "cell_type": "code",
   "execution_count": 578,
   "metadata": {},
   "outputs": [],
   "source": [
    "# Split data menjadi train dan test\n",
    "X_train, X_test, y_train, y_test = train_test_split(X, y, test_size=0.2)"
   ]
  },
  {
   "attachments": {},
   "cell_type": "markdown",
   "metadata": {},
   "source": [
    "## Decission Tree"
   ]
  },
  {
   "cell_type": "code",
   "execution_count": 581,
   "metadata": {},
   "outputs": [
    {
     "data": {
      "text/plain": [
       "<bound method BaseEstimator.get_params of GridSearchCV(cv=5, estimator=DecisionTreeRegressor(),\n",
       "             param_grid={'max_depth': [None, 2, 4, 6, 8, 10, 12]},\n",
       "             return_train_score=True, scoring='neg_mean_absolute_error')>"
      ]
     },
     "execution_count": 581,
     "metadata": {},
     "output_type": "execute_result"
    }
   ],
   "source": [
    "dt_model = DecisionTreeRegressor()\n",
    "\n",
    "param_grid = {\n",
    "    'max_depth': [None, 2, 4, 6, 8, 10, 12]\n",
    "}\n",
    "\n",
    "dt_gs = GridSearchCV(dt_model, param_grid=param_grid, cv=5, scoring='neg_mean_absolute_error', return_train_score=True)\n",
    "dt_gs.get_params"
   ]
  },
  {
   "cell_type": "code",
   "execution_count": 582,
   "metadata": {},
   "outputs": [
    {
     "data": {
      "text/html": [
       "<style>#sk-container-id-41 {color: black;background-color: white;}#sk-container-id-41 pre{padding: 0;}#sk-container-id-41 div.sk-toggleable {background-color: white;}#sk-container-id-41 label.sk-toggleable__label {cursor: pointer;display: block;width: 100%;margin-bottom: 0;padding: 0.3em;box-sizing: border-box;text-align: center;}#sk-container-id-41 label.sk-toggleable__label-arrow:before {content: \"▸\";float: left;margin-right: 0.25em;color: #696969;}#sk-container-id-41 label.sk-toggleable__label-arrow:hover:before {color: black;}#sk-container-id-41 div.sk-estimator:hover label.sk-toggleable__label-arrow:before {color: black;}#sk-container-id-41 div.sk-toggleable__content {max-height: 0;max-width: 0;overflow: hidden;text-align: left;background-color: #f0f8ff;}#sk-container-id-41 div.sk-toggleable__content pre {margin: 0.2em;color: black;border-radius: 0.25em;background-color: #f0f8ff;}#sk-container-id-41 input.sk-toggleable__control:checked~div.sk-toggleable__content {max-height: 200px;max-width: 100%;overflow: auto;}#sk-container-id-41 input.sk-toggleable__control:checked~label.sk-toggleable__label-arrow:before {content: \"▾\";}#sk-container-id-41 div.sk-estimator input.sk-toggleable__control:checked~label.sk-toggleable__label {background-color: #d4ebff;}#sk-container-id-41 div.sk-label input.sk-toggleable__control:checked~label.sk-toggleable__label {background-color: #d4ebff;}#sk-container-id-41 input.sk-hidden--visually {border: 0;clip: rect(1px 1px 1px 1px);clip: rect(1px, 1px, 1px, 1px);height: 1px;margin: -1px;overflow: hidden;padding: 0;position: absolute;width: 1px;}#sk-container-id-41 div.sk-estimator {font-family: monospace;background-color: #f0f8ff;border: 1px dotted black;border-radius: 0.25em;box-sizing: border-box;margin-bottom: 0.5em;}#sk-container-id-41 div.sk-estimator:hover {background-color: #d4ebff;}#sk-container-id-41 div.sk-parallel-item::after {content: \"\";width: 100%;border-bottom: 1px solid gray;flex-grow: 1;}#sk-container-id-41 div.sk-label:hover label.sk-toggleable__label {background-color: #d4ebff;}#sk-container-id-41 div.sk-serial::before {content: \"\";position: absolute;border-left: 1px solid gray;box-sizing: border-box;top: 0;bottom: 0;left: 50%;z-index: 0;}#sk-container-id-41 div.sk-serial {display: flex;flex-direction: column;align-items: center;background-color: white;padding-right: 0.2em;padding-left: 0.2em;position: relative;}#sk-container-id-41 div.sk-item {position: relative;z-index: 1;}#sk-container-id-41 div.sk-parallel {display: flex;align-items: stretch;justify-content: center;background-color: white;position: relative;}#sk-container-id-41 div.sk-item::before, #sk-container-id-41 div.sk-parallel-item::before {content: \"\";position: absolute;border-left: 1px solid gray;box-sizing: border-box;top: 0;bottom: 0;left: 50%;z-index: -1;}#sk-container-id-41 div.sk-parallel-item {display: flex;flex-direction: column;z-index: 1;position: relative;background-color: white;}#sk-container-id-41 div.sk-parallel-item:first-child::after {align-self: flex-end;width: 50%;}#sk-container-id-41 div.sk-parallel-item:last-child::after {align-self: flex-start;width: 50%;}#sk-container-id-41 div.sk-parallel-item:only-child::after {width: 0;}#sk-container-id-41 div.sk-dashed-wrapped {border: 1px dashed gray;margin: 0 0.4em 0.5em 0.4em;box-sizing: border-box;padding-bottom: 0.4em;background-color: white;}#sk-container-id-41 div.sk-label label {font-family: monospace;font-weight: bold;display: inline-block;line-height: 1.2em;}#sk-container-id-41 div.sk-label-container {text-align: center;}#sk-container-id-41 div.sk-container {/* jupyter's `normalize.less` sets `[hidden] { display: none; }` but bootstrap.min.css set `[hidden] { display: none !important; }` so we also need the `!important` here to be able to override the default hidden behavior on the sphinx rendered scikit-learn.org. See: https://github.com/scikit-learn/scikit-learn/issues/21755 */display: inline-block !important;position: relative;}#sk-container-id-41 div.sk-text-repr-fallback {display: none;}</style><div id=\"sk-container-id-41\" class=\"sk-top-container\"><div class=\"sk-text-repr-fallback\"><pre>DecisionTreeRegressor(max_depth=6)</pre><b>In a Jupyter environment, please rerun this cell to show the HTML representation or trust the notebook. <br />On GitHub, the HTML representation is unable to render, please try loading this page with nbviewer.org.</b></div><div class=\"sk-container\" hidden><div class=\"sk-item\"><div class=\"sk-estimator sk-toggleable\"><input class=\"sk-toggleable__control sk-hidden--visually\" id=\"sk-estimator-id-41\" type=\"checkbox\" checked><label for=\"sk-estimator-id-41\" class=\"sk-toggleable__label sk-toggleable__label-arrow\">DecisionTreeRegressor</label><div class=\"sk-toggleable__content\"><pre>DecisionTreeRegressor(max_depth=6)</pre></div></div></div></div></div>"
      ],
      "text/plain": [
       "DecisionTreeRegressor(max_depth=6)"
      ]
     },
     "execution_count": 582,
     "metadata": {},
     "output_type": "execute_result"
    }
   ],
   "source": [
    "dt_gs.fit(X_train, y_train)\n",
    "dt_regressor = dt_gs.best_estimator_\n",
    "dt_regressor"
   ]
  },
  {
   "cell_type": "code",
   "execution_count": 583,
   "metadata": {},
   "outputs": [
    {
     "data": {
      "text/html": [
       "<style>#sk-container-id-42 {color: black;background-color: white;}#sk-container-id-42 pre{padding: 0;}#sk-container-id-42 div.sk-toggleable {background-color: white;}#sk-container-id-42 label.sk-toggleable__label {cursor: pointer;display: block;width: 100%;margin-bottom: 0;padding: 0.3em;box-sizing: border-box;text-align: center;}#sk-container-id-42 label.sk-toggleable__label-arrow:before {content: \"▸\";float: left;margin-right: 0.25em;color: #696969;}#sk-container-id-42 label.sk-toggleable__label-arrow:hover:before {color: black;}#sk-container-id-42 div.sk-estimator:hover label.sk-toggleable__label-arrow:before {color: black;}#sk-container-id-42 div.sk-toggleable__content {max-height: 0;max-width: 0;overflow: hidden;text-align: left;background-color: #f0f8ff;}#sk-container-id-42 div.sk-toggleable__content pre {margin: 0.2em;color: black;border-radius: 0.25em;background-color: #f0f8ff;}#sk-container-id-42 input.sk-toggleable__control:checked~div.sk-toggleable__content {max-height: 200px;max-width: 100%;overflow: auto;}#sk-container-id-42 input.sk-toggleable__control:checked~label.sk-toggleable__label-arrow:before {content: \"▾\";}#sk-container-id-42 div.sk-estimator input.sk-toggleable__control:checked~label.sk-toggleable__label {background-color: #d4ebff;}#sk-container-id-42 div.sk-label input.sk-toggleable__control:checked~label.sk-toggleable__label {background-color: #d4ebff;}#sk-container-id-42 input.sk-hidden--visually {border: 0;clip: rect(1px 1px 1px 1px);clip: rect(1px, 1px, 1px, 1px);height: 1px;margin: -1px;overflow: hidden;padding: 0;position: absolute;width: 1px;}#sk-container-id-42 div.sk-estimator {font-family: monospace;background-color: #f0f8ff;border: 1px dotted black;border-radius: 0.25em;box-sizing: border-box;margin-bottom: 0.5em;}#sk-container-id-42 div.sk-estimator:hover {background-color: #d4ebff;}#sk-container-id-42 div.sk-parallel-item::after {content: \"\";width: 100%;border-bottom: 1px solid gray;flex-grow: 1;}#sk-container-id-42 div.sk-label:hover label.sk-toggleable__label {background-color: #d4ebff;}#sk-container-id-42 div.sk-serial::before {content: \"\";position: absolute;border-left: 1px solid gray;box-sizing: border-box;top: 0;bottom: 0;left: 50%;z-index: 0;}#sk-container-id-42 div.sk-serial {display: flex;flex-direction: column;align-items: center;background-color: white;padding-right: 0.2em;padding-left: 0.2em;position: relative;}#sk-container-id-42 div.sk-item {position: relative;z-index: 1;}#sk-container-id-42 div.sk-parallel {display: flex;align-items: stretch;justify-content: center;background-color: white;position: relative;}#sk-container-id-42 div.sk-item::before, #sk-container-id-42 div.sk-parallel-item::before {content: \"\";position: absolute;border-left: 1px solid gray;box-sizing: border-box;top: 0;bottom: 0;left: 50%;z-index: -1;}#sk-container-id-42 div.sk-parallel-item {display: flex;flex-direction: column;z-index: 1;position: relative;background-color: white;}#sk-container-id-42 div.sk-parallel-item:first-child::after {align-self: flex-end;width: 50%;}#sk-container-id-42 div.sk-parallel-item:last-child::after {align-self: flex-start;width: 50%;}#sk-container-id-42 div.sk-parallel-item:only-child::after {width: 0;}#sk-container-id-42 div.sk-dashed-wrapped {border: 1px dashed gray;margin: 0 0.4em 0.5em 0.4em;box-sizing: border-box;padding-bottom: 0.4em;background-color: white;}#sk-container-id-42 div.sk-label label {font-family: monospace;font-weight: bold;display: inline-block;line-height: 1.2em;}#sk-container-id-42 div.sk-label-container {text-align: center;}#sk-container-id-42 div.sk-container {/* jupyter's `normalize.less` sets `[hidden] { display: none; }` but bootstrap.min.css set `[hidden] { display: none !important; }` so we also need the `!important` here to be able to override the default hidden behavior on the sphinx rendered scikit-learn.org. See: https://github.com/scikit-learn/scikit-learn/issues/21755 */display: inline-block !important;position: relative;}#sk-container-id-42 div.sk-text-repr-fallback {display: none;}</style><div id=\"sk-container-id-42\" class=\"sk-top-container\"><div class=\"sk-text-repr-fallback\"><pre>DecisionTreeRegressor(max_depth=6)</pre><b>In a Jupyter environment, please rerun this cell to show the HTML representation or trust the notebook. <br />On GitHub, the HTML representation is unable to render, please try loading this page with nbviewer.org.</b></div><div class=\"sk-container\" hidden><div class=\"sk-item\"><div class=\"sk-estimator sk-toggleable\"><input class=\"sk-toggleable__control sk-hidden--visually\" id=\"sk-estimator-id-42\" type=\"checkbox\" checked><label for=\"sk-estimator-id-42\" class=\"sk-toggleable__label sk-toggleable__label-arrow\">DecisionTreeRegressor</label><div class=\"sk-toggleable__content\"><pre>DecisionTreeRegressor(max_depth=6)</pre></div></div></div></div></div>"
      ],
      "text/plain": [
       "DecisionTreeRegressor(max_depth=6)"
      ]
     },
     "execution_count": 583,
     "metadata": {},
     "output_type": "execute_result"
    }
   ],
   "source": [
    "dt_regressor.fit(X_train.values, y_train)"
   ]
  },
  {
   "cell_type": "code",
   "execution_count": 584,
   "metadata": {},
   "outputs": [
    {
     "name": "stdout",
     "output_type": "stream",
     "text": [
      "MAE:  179387.46766840524\n",
      "RMSE:  941712.5986583227\n"
     ]
    }
   ],
   "source": [
    "y_pred = dt_regressor.predict(X_test.values)\n",
    "print('MAE: ', mean_absolute_error(y_test, y_pred))\n",
    "print('RMSE: ', np.sqrt(mean_squared_error(y_test, y_pred)))"
   ]
  },
  {
   "attachments": {},
   "cell_type": "markdown",
   "metadata": {},
   "source": [
    "## Random Forest"
   ]
  },
  {
   "cell_type": "code",
   "execution_count": 585,
   "metadata": {},
   "outputs": [
    {
     "data": {
      "text/plain": [
       "<bound method BaseEstimator.get_params of GridSearchCV(cv=5, estimator=RandomForestRegressor(),\n",
       "             param_grid={'max_depth': [None, 2, 4, 6, 8, 10, 12]},\n",
       "             return_train_score=True, scoring='neg_mean_absolute_error')>"
      ]
     },
     "execution_count": 585,
     "metadata": {},
     "output_type": "execute_result"
    }
   ],
   "source": [
    "rf_model = RandomForestRegressor()\n",
    "\n",
    "param_grid = {\n",
    "    'max_depth': [None, 2, 4, 6, 8, 10, 12]\n",
    "}\n",
    "\n",
    "rf_gs = GridSearchCV(rf_model, param_grid=param_grid, cv=5, scoring='neg_mean_absolute_error', return_train_score=True)\n",
    "rf_gs.get_params"
   ]
  },
  {
   "cell_type": "code",
   "execution_count": 586,
   "metadata": {},
   "outputs": [
    {
     "data": {
      "text/html": [
       "<style>#sk-container-id-43 {color: black;background-color: white;}#sk-container-id-43 pre{padding: 0;}#sk-container-id-43 div.sk-toggleable {background-color: white;}#sk-container-id-43 label.sk-toggleable__label {cursor: pointer;display: block;width: 100%;margin-bottom: 0;padding: 0.3em;box-sizing: border-box;text-align: center;}#sk-container-id-43 label.sk-toggleable__label-arrow:before {content: \"▸\";float: left;margin-right: 0.25em;color: #696969;}#sk-container-id-43 label.sk-toggleable__label-arrow:hover:before {color: black;}#sk-container-id-43 div.sk-estimator:hover label.sk-toggleable__label-arrow:before {color: black;}#sk-container-id-43 div.sk-toggleable__content {max-height: 0;max-width: 0;overflow: hidden;text-align: left;background-color: #f0f8ff;}#sk-container-id-43 div.sk-toggleable__content pre {margin: 0.2em;color: black;border-radius: 0.25em;background-color: #f0f8ff;}#sk-container-id-43 input.sk-toggleable__control:checked~div.sk-toggleable__content {max-height: 200px;max-width: 100%;overflow: auto;}#sk-container-id-43 input.sk-toggleable__control:checked~label.sk-toggleable__label-arrow:before {content: \"▾\";}#sk-container-id-43 div.sk-estimator input.sk-toggleable__control:checked~label.sk-toggleable__label {background-color: #d4ebff;}#sk-container-id-43 div.sk-label input.sk-toggleable__control:checked~label.sk-toggleable__label {background-color: #d4ebff;}#sk-container-id-43 input.sk-hidden--visually {border: 0;clip: rect(1px 1px 1px 1px);clip: rect(1px, 1px, 1px, 1px);height: 1px;margin: -1px;overflow: hidden;padding: 0;position: absolute;width: 1px;}#sk-container-id-43 div.sk-estimator {font-family: monospace;background-color: #f0f8ff;border: 1px dotted black;border-radius: 0.25em;box-sizing: border-box;margin-bottom: 0.5em;}#sk-container-id-43 div.sk-estimator:hover {background-color: #d4ebff;}#sk-container-id-43 div.sk-parallel-item::after {content: \"\";width: 100%;border-bottom: 1px solid gray;flex-grow: 1;}#sk-container-id-43 div.sk-label:hover label.sk-toggleable__label {background-color: #d4ebff;}#sk-container-id-43 div.sk-serial::before {content: \"\";position: absolute;border-left: 1px solid gray;box-sizing: border-box;top: 0;bottom: 0;left: 50%;z-index: 0;}#sk-container-id-43 div.sk-serial {display: flex;flex-direction: column;align-items: center;background-color: white;padding-right: 0.2em;padding-left: 0.2em;position: relative;}#sk-container-id-43 div.sk-item {position: relative;z-index: 1;}#sk-container-id-43 div.sk-parallel {display: flex;align-items: stretch;justify-content: center;background-color: white;position: relative;}#sk-container-id-43 div.sk-item::before, #sk-container-id-43 div.sk-parallel-item::before {content: \"\";position: absolute;border-left: 1px solid gray;box-sizing: border-box;top: 0;bottom: 0;left: 50%;z-index: -1;}#sk-container-id-43 div.sk-parallel-item {display: flex;flex-direction: column;z-index: 1;position: relative;background-color: white;}#sk-container-id-43 div.sk-parallel-item:first-child::after {align-self: flex-end;width: 50%;}#sk-container-id-43 div.sk-parallel-item:last-child::after {align-self: flex-start;width: 50%;}#sk-container-id-43 div.sk-parallel-item:only-child::after {width: 0;}#sk-container-id-43 div.sk-dashed-wrapped {border: 1px dashed gray;margin: 0 0.4em 0.5em 0.4em;box-sizing: border-box;padding-bottom: 0.4em;background-color: white;}#sk-container-id-43 div.sk-label label {font-family: monospace;font-weight: bold;display: inline-block;line-height: 1.2em;}#sk-container-id-43 div.sk-label-container {text-align: center;}#sk-container-id-43 div.sk-container {/* jupyter's `normalize.less` sets `[hidden] { display: none; }` but bootstrap.min.css set `[hidden] { display: none !important; }` so we also need the `!important` here to be able to override the default hidden behavior on the sphinx rendered scikit-learn.org. See: https://github.com/scikit-learn/scikit-learn/issues/21755 */display: inline-block !important;position: relative;}#sk-container-id-43 div.sk-text-repr-fallback {display: none;}</style><div id=\"sk-container-id-43\" class=\"sk-top-container\"><div class=\"sk-text-repr-fallback\"><pre>RandomForestRegressor(max_depth=6)</pre><b>In a Jupyter environment, please rerun this cell to show the HTML representation or trust the notebook. <br />On GitHub, the HTML representation is unable to render, please try loading this page with nbviewer.org.</b></div><div class=\"sk-container\" hidden><div class=\"sk-item\"><div class=\"sk-estimator sk-toggleable\"><input class=\"sk-toggleable__control sk-hidden--visually\" id=\"sk-estimator-id-43\" type=\"checkbox\" checked><label for=\"sk-estimator-id-43\" class=\"sk-toggleable__label sk-toggleable__label-arrow\">RandomForestRegressor</label><div class=\"sk-toggleable__content\"><pre>RandomForestRegressor(max_depth=6)</pre></div></div></div></div></div>"
      ],
      "text/plain": [
       "RandomForestRegressor(max_depth=6)"
      ]
     },
     "execution_count": 586,
     "metadata": {},
     "output_type": "execute_result"
    }
   ],
   "source": [
    "rf_gs.fit(X_train, y_train)\n",
    "rf_regressor = rf_gs.best_estimator_\n",
    "rf_regressor"
   ]
  },
  {
   "cell_type": "code",
   "execution_count": 587,
   "metadata": {},
   "outputs": [
    {
     "data": {
      "text/html": [
       "<style>#sk-container-id-44 {color: black;background-color: white;}#sk-container-id-44 pre{padding: 0;}#sk-container-id-44 div.sk-toggleable {background-color: white;}#sk-container-id-44 label.sk-toggleable__label {cursor: pointer;display: block;width: 100%;margin-bottom: 0;padding: 0.3em;box-sizing: border-box;text-align: center;}#sk-container-id-44 label.sk-toggleable__label-arrow:before {content: \"▸\";float: left;margin-right: 0.25em;color: #696969;}#sk-container-id-44 label.sk-toggleable__label-arrow:hover:before {color: black;}#sk-container-id-44 div.sk-estimator:hover label.sk-toggleable__label-arrow:before {color: black;}#sk-container-id-44 div.sk-toggleable__content {max-height: 0;max-width: 0;overflow: hidden;text-align: left;background-color: #f0f8ff;}#sk-container-id-44 div.sk-toggleable__content pre {margin: 0.2em;color: black;border-radius: 0.25em;background-color: #f0f8ff;}#sk-container-id-44 input.sk-toggleable__control:checked~div.sk-toggleable__content {max-height: 200px;max-width: 100%;overflow: auto;}#sk-container-id-44 input.sk-toggleable__control:checked~label.sk-toggleable__label-arrow:before {content: \"▾\";}#sk-container-id-44 div.sk-estimator input.sk-toggleable__control:checked~label.sk-toggleable__label {background-color: #d4ebff;}#sk-container-id-44 div.sk-label input.sk-toggleable__control:checked~label.sk-toggleable__label {background-color: #d4ebff;}#sk-container-id-44 input.sk-hidden--visually {border: 0;clip: rect(1px 1px 1px 1px);clip: rect(1px, 1px, 1px, 1px);height: 1px;margin: -1px;overflow: hidden;padding: 0;position: absolute;width: 1px;}#sk-container-id-44 div.sk-estimator {font-family: monospace;background-color: #f0f8ff;border: 1px dotted black;border-radius: 0.25em;box-sizing: border-box;margin-bottom: 0.5em;}#sk-container-id-44 div.sk-estimator:hover {background-color: #d4ebff;}#sk-container-id-44 div.sk-parallel-item::after {content: \"\";width: 100%;border-bottom: 1px solid gray;flex-grow: 1;}#sk-container-id-44 div.sk-label:hover label.sk-toggleable__label {background-color: #d4ebff;}#sk-container-id-44 div.sk-serial::before {content: \"\";position: absolute;border-left: 1px solid gray;box-sizing: border-box;top: 0;bottom: 0;left: 50%;z-index: 0;}#sk-container-id-44 div.sk-serial {display: flex;flex-direction: column;align-items: center;background-color: white;padding-right: 0.2em;padding-left: 0.2em;position: relative;}#sk-container-id-44 div.sk-item {position: relative;z-index: 1;}#sk-container-id-44 div.sk-parallel {display: flex;align-items: stretch;justify-content: center;background-color: white;position: relative;}#sk-container-id-44 div.sk-item::before, #sk-container-id-44 div.sk-parallel-item::before {content: \"\";position: absolute;border-left: 1px solid gray;box-sizing: border-box;top: 0;bottom: 0;left: 50%;z-index: -1;}#sk-container-id-44 div.sk-parallel-item {display: flex;flex-direction: column;z-index: 1;position: relative;background-color: white;}#sk-container-id-44 div.sk-parallel-item:first-child::after {align-self: flex-end;width: 50%;}#sk-container-id-44 div.sk-parallel-item:last-child::after {align-self: flex-start;width: 50%;}#sk-container-id-44 div.sk-parallel-item:only-child::after {width: 0;}#sk-container-id-44 div.sk-dashed-wrapped {border: 1px dashed gray;margin: 0 0.4em 0.5em 0.4em;box-sizing: border-box;padding-bottom: 0.4em;background-color: white;}#sk-container-id-44 div.sk-label label {font-family: monospace;font-weight: bold;display: inline-block;line-height: 1.2em;}#sk-container-id-44 div.sk-label-container {text-align: center;}#sk-container-id-44 div.sk-container {/* jupyter's `normalize.less` sets `[hidden] { display: none; }` but bootstrap.min.css set `[hidden] { display: none !important; }` so we also need the `!important` here to be able to override the default hidden behavior on the sphinx rendered scikit-learn.org. See: https://github.com/scikit-learn/scikit-learn/issues/21755 */display: inline-block !important;position: relative;}#sk-container-id-44 div.sk-text-repr-fallback {display: none;}</style><div id=\"sk-container-id-44\" class=\"sk-top-container\"><div class=\"sk-text-repr-fallback\"><pre>RandomForestRegressor(max_depth=6)</pre><b>In a Jupyter environment, please rerun this cell to show the HTML representation or trust the notebook. <br />On GitHub, the HTML representation is unable to render, please try loading this page with nbviewer.org.</b></div><div class=\"sk-container\" hidden><div class=\"sk-item\"><div class=\"sk-estimator sk-toggleable\"><input class=\"sk-toggleable__control sk-hidden--visually\" id=\"sk-estimator-id-44\" type=\"checkbox\" checked><label for=\"sk-estimator-id-44\" class=\"sk-toggleable__label sk-toggleable__label-arrow\">RandomForestRegressor</label><div class=\"sk-toggleable__content\"><pre>RandomForestRegressor(max_depth=6)</pre></div></div></div></div></div>"
      ],
      "text/plain": [
       "RandomForestRegressor(max_depth=6)"
      ]
     },
     "execution_count": 587,
     "metadata": {},
     "output_type": "execute_result"
    }
   ],
   "source": [
    "rf_regressor.fit(X_train.values, y_train)"
   ]
  },
  {
   "cell_type": "code",
   "execution_count": 588,
   "metadata": {},
   "outputs": [
    {
     "name": "stdout",
     "output_type": "stream",
     "text": [
      "MAE:  176382.37486853788\n",
      "RMSE:  802709.455560532\n"
     ]
    }
   ],
   "source": [
    "y_pred = rf_regressor.predict(X_test.values)\n",
    "print('MAE: ', mean_absolute_error(y_test, y_pred))\n",
    "print('RMSE: ', np.sqrt(mean_squared_error(y_test, y_pred)))"
   ]
  },
  {
   "attachments": {},
   "cell_type": "markdown",
   "metadata": {},
   "source": [
    "## Upload to pickle"
   ]
  },
  {
   "cell_type": "code",
   "execution_count": 618,
   "metadata": {},
   "outputs": [],
   "source": [
    "# Memasukkan data data yang diperlukan dan di assign ke dalam model.pkl\n",
    "data = {\n",
    "    'DecissionTree' : dt_regressor,\n",
    "    'RandomForest' : rf_regressor,\n",
    "    'country_encoder' : country_encoder,\n",
    "    'ed_encoder' : ed_encoder,\n",
    "    'employment_encoder' : employment_encoder,\n",
    "    'n_input' : X_train.shape[1]\n",
    "}\n",
    "\n",
    "with open('model.pkl', 'wb') as file:\n",
    "    pickle.dump(data, file)"
   ]
  },
  {
   "attachments": {},
   "cell_type": "markdown",
   "metadata": {},
   "source": [
    "## Neural Network"
   ]
  },
  {
   "cell_type": "code",
   "execution_count": 590,
   "metadata": {},
   "outputs": [],
   "source": [
    "# Pengubahan data menjadi tensor\n",
    "X_train_pt = torch.from_numpy(X_train.to_numpy()).float()\n",
    "X_test_pt = torch.from_numpy(X_test.to_numpy()).float()\n",
    "y_train_pt = torch.from_numpy(y_train.to_numpy()).float().view(-1, 1)\n",
    "y_test_pt = torch.from_numpy(y_test.to_numpy()).float().view(-1, 1)\n",
    "X_pt = torch.from_numpy(X.to_numpy()).float()\n",
    "y_pt = torch.from_numpy(y.to_numpy()).float().view(-1, 1)"
   ]
  },
  {
   "cell_type": "code",
   "execution_count": 591,
   "metadata": {},
   "outputs": [
    {
     "name": "stdout",
     "output_type": "stream",
     "text": [
      "torch.Size([32871, 4])\n",
      "torch.Size([8218, 4])\n",
      "torch.Size([32871, 1])\n",
      "torch.Size([8218, 1])\n",
      "torch.Size([41089, 4])\n",
      "torch.Size([41089, 1])\n"
     ]
    }
   ],
   "source": [
    "print(X_train_pt.shape)\n",
    "print(X_test_pt.shape)\n",
    "print(y_train_pt.shape)\n",
    "print(y_test_pt.shape)\n",
    "print(X_pt.shape)\n",
    "print(y_pt.shape)"
   ]
  },
  {
   "cell_type": "code",
   "execution_count": 592,
   "metadata": {},
   "outputs": [
    {
     "name": "stdout",
     "output_type": "stream",
     "text": [
      "4\n"
     ]
    }
   ],
   "source": [
    "# Ukuran input layer\n",
    "input_size = X_train_pt.shape[1]\n",
    "print(input_size)"
   ]
  },
  {
   "cell_type": "code",
   "execution_count": 593,
   "metadata": {},
   "outputs": [],
   "source": [
    "# Membuat class SalaryPredict dengan menggunakan nn.Module\n",
    "class SalaryPredict(nn.Module):\n",
    "    def __init__(self, n_input_featrues):\n",
    "        super().__init__()\n",
    "        self.l1 = nn.Linear(n_input_featrues, 128)\n",
    "        self.relu1 = nn.ReLU()\n",
    "        self.l2 = nn.Linear(128, 64)\n",
    "        self.relu2 = nn.ReLU()\n",
    "        self.l3 = nn.Linear(64, 32)\n",
    "        self.relu3 = nn.LeakyReLU()\n",
    "        self.l4 = nn.Linear(32, 16)\n",
    "        self.relu4 = nn.LeakyReLU()\n",
    "        self.l5 = nn.Linear(16, 8)\n",
    "        self.relu5 = nn.LeakyReLU()\n",
    "        self.l6 = nn.Linear(8, 1)\n",
    "        self.dropout = nn.Dropout(p=0.1)\n",
    "        \n",
    "    def forward(self, x):\n",
    "        x = self.l1(x)\n",
    "        x = self.relu1(x)\n",
    "        x = self.l2(x)\n",
    "        x = self.relu2(x)\n",
    "        x = self.l3(x)\n",
    "        x = self.relu3(x)\n",
    "        x = self.l4(x)\n",
    "        x = self.relu4(x)\n",
    "        x = self.l5(x)\n",
    "        x = self.relu5(x)\n",
    "        x = self.l6(x)\n",
    "        x = self.dropout(x)\n",
    "        return x\n"
   ]
  },
  {
   "cell_type": "code",
   "execution_count": 594,
   "metadata": {},
   "outputs": [
    {
     "data": {
      "text/plain": [
       "device(type='cpu')"
      ]
     },
     "execution_count": 594,
     "metadata": {},
     "output_type": "execute_result"
    }
   ],
   "source": [
    "# Menentukan perangkat yang digunakan untuk komputasi\n",
    "device = torch.device('cuda' if torch.cuda.is_available() else 'cpu')\n",
    "device"
   ]
  },
  {
   "cell_type": "code",
   "execution_count": 595,
   "metadata": {},
   "outputs": [],
   "source": [
    "# Definisikan model\n",
    "model = SalaryPredict(input_size)"
   ]
  },
  {
   "cell_type": "code",
   "execution_count": 596,
   "metadata": {},
   "outputs": [],
   "source": [
    "# Menghitung MSE\n",
    "criterion = nn.MSELoss()"
   ]
  },
  {
   "cell_type": "code",
   "execution_count": 597,
   "metadata": {},
   "outputs": [],
   "source": [
    "# Optimisasi parameter\n",
    "optimizer = torch.optim.Adam(model.parameters(), lr=0.001)"
   ]
  },
  {
   "cell_type": "code",
   "execution_count": 598,
   "metadata": {},
   "outputs": [],
   "source": [
    "# Inisialisasi epoch\n",
    "epochs = 1000"
   ]
  },
  {
   "cell_type": "code",
   "execution_count": 599,
   "metadata": {},
   "outputs": [
    {
     "name": "stdout",
     "output_type": "stream",
     "text": [
      "0:00:01.507361 | Epoch: 0 Loss: 595257524224.0\n",
      "0:00:16.285471 | Epoch: 10 Loss: 595257262080.0\n",
      "0:00:31.221100 | Epoch: 20 Loss: 595256475648.0\n",
      "0:00:46.789845 | Epoch: 30 Loss: 595254378496.0\n",
      "0:01:01.940762 | Epoch: 40 Loss: 595248742400.0\n",
      "0:01:17.234516 | Epoch: 50 Loss: 595234324480.0\n",
      "0:01:30.559343 | Epoch: 60 Loss: 595200638976.0\n",
      "0:01:45.053134 | Epoch: 70 Loss: 595124158464.0\n",
      "0:01:58.963824 | Epoch: 80 Loss: 594958680064.0\n",
      "0:02:13.842447 | Epoch: 90 Loss: 594618023936.0\n",
      "0:02:30.990290 | Epoch: 100 Loss: 593976885248.0\n",
      "0:02:46.975846 | Epoch: 110 Loss: 592851763200.0\n",
      "0:03:01.812117 | Epoch: 120 Loss: 590948859904.0\n",
      "0:03:16.745076 | Epoch: 130 Loss: 587703779328.0\n",
      "0:03:32.824672 | Epoch: 140 Loss: 583156367360.0\n",
      "0:03:46.787274 | Epoch: 150 Loss: 576958889984.0\n",
      "0:04:00.860061 | Epoch: 160 Loss: 571359297536.0\n",
      "0:04:15.215878 | Epoch: 170 Loss: 567477796864.0\n",
      "0:04:29.745785 | Epoch: 180 Loss: 567054958592.0\n",
      "0:04:44.242670 | Epoch: 190 Loss: 567383031808.0\n",
      "0:04:59.030932 | Epoch: 200 Loss: 566727671808.0\n",
      "0:05:13.888710 | Epoch: 210 Loss: 566755917824.0\n",
      "0:05:27.454858 | Epoch: 220 Loss: 567136681984.0\n",
      "0:05:41.441776 | Epoch: 230 Loss: 565842083840.0\n",
      "0:05:55.393231 | Epoch: 240 Loss: 565658320896.0\n",
      "0:06:09.300250 | Epoch: 250 Loss: 566101934080.0\n",
      "0:06:23.133791 | Epoch: 260 Loss: 565957033984.0\n",
      "0:06:37.078975 | Epoch: 270 Loss: 565659893760.0\n",
      "0:06:50.946139 | Epoch: 280 Loss: 565165490176.0\n",
      "0:07:05.012651 | Epoch: 290 Loss: 565361508352.0\n",
      "0:07:19.712204 | Epoch: 300 Loss: 566100164608.0\n",
      "0:07:34.244999 | Epoch: 310 Loss: 564900528128.0\n",
      "0:07:48.604701 | Epoch: 320 Loss: 565095694336.0\n",
      "0:08:03.431270 | Epoch: 330 Loss: 564876410880.0\n",
      "0:08:19.408575 | Epoch: 340 Loss: 565055913984.0\n",
      "0:08:37.518132 | Epoch: 350 Loss: 564516356096.0\n",
      "0:08:54.878754 | Epoch: 360 Loss: 565098840064.0\n",
      "0:09:15.006534 | Epoch: 370 Loss: 564812054528.0\n",
      "0:09:28.250787 | Epoch: 380 Loss: 565587345408.0\n",
      "0:09:42.715302 | Epoch: 390 Loss: 565299576832.0\n",
      "0:09:55.518777 | Epoch: 400 Loss: 564695334912.0\n",
      "0:10:08.413184 | Epoch: 410 Loss: 564177731584.0\n",
      "0:10:21.327440 | Epoch: 420 Loss: 564667547648.0\n",
      "0:10:34.312446 | Epoch: 430 Loss: 564923793408.0\n",
      "0:10:47.330379 | Epoch: 440 Loss: 565300363264.0\n",
      "0:11:00.116079 | Epoch: 450 Loss: 563882622976.0\n",
      "0:11:13.529568 | Epoch: 460 Loss: 564656209920.0\n",
      "0:11:26.607912 | Epoch: 470 Loss: 564298448896.0\n",
      "0:11:39.791041 | Epoch: 480 Loss: 563966312448.0\n",
      "0:11:53.030469 | Epoch: 490 Loss: 564682293248.0\n",
      "0:12:06.312884 | Epoch: 500 Loss: 564491059200.0\n",
      "0:12:19.835364 | Epoch: 510 Loss: 564023525376.0\n",
      "0:12:33.394447 | Epoch: 520 Loss: 563581157376.0\n",
      "0:12:47.150103 | Epoch: 530 Loss: 564645134336.0\n",
      "0:13:01.000409 | Epoch: 540 Loss: 563643547648.0\n",
      "0:13:15.100202 | Epoch: 550 Loss: 563318292480.0\n",
      "0:13:29.639072 | Epoch: 560 Loss: 563865124864.0\n",
      "0:13:44.197242 | Epoch: 570 Loss: 563721666560.0\n",
      "0:13:58.928243 | Epoch: 580 Loss: 563574603776.0\n",
      "0:14:16.382330 | Epoch: 590 Loss: 563371245568.0\n",
      "0:15:10.153090 | Epoch: 600 Loss: 564333641728.0\n",
      "0:15:23.562607 | Epoch: 610 Loss: 564297728000.0\n",
      "0:15:37.063723 | Epoch: 620 Loss: 563643219968.0\n",
      "0:15:50.354292 | Epoch: 630 Loss: 563778486272.0\n",
      "0:16:03.648461 | Epoch: 640 Loss: 564510130176.0\n",
      "0:16:17.010750 | Epoch: 650 Loss: 563574996992.0\n",
      "0:16:30.352442 | Epoch: 660 Loss: 564988936192.0\n",
      "0:16:43.219045 | Epoch: 670 Loss: 562876186624.0\n",
      "0:16:56.000912 | Epoch: 680 Loss: 564776665088.0\n",
      "0:17:08.885267 | Epoch: 690 Loss: 563542818816.0\n",
      "0:17:21.923929 | Epoch: 700 Loss: 562944016384.0\n",
      "0:17:35.040026 | Epoch: 710 Loss: 563646562304.0\n",
      "0:17:48.215599 | Epoch: 720 Loss: 563246989312.0\n",
      "0:18:01.400351 | Epoch: 730 Loss: 563561431040.0\n",
      "0:18:16.063118 | Epoch: 740 Loss: 564008255488.0\n",
      "0:18:29.702950 | Epoch: 750 Loss: 564192870400.0\n",
      "0:18:43.605526 | Epoch: 760 Loss: 563389333504.0\n",
      "0:18:57.422117 | Epoch: 770 Loss: 563137544192.0\n",
      "0:19:11.407675 | Epoch: 780 Loss: 564574093312.0\n",
      "0:19:25.743603 | Epoch: 790 Loss: 563752927232.0\n",
      "0:19:39.917761 | Epoch: 800 Loss: 563101958144.0\n",
      "0:19:54.146825 | Epoch: 810 Loss: 562865045504.0\n",
      "0:20:11.850374 | Epoch: 820 Loss: 562663194624.0\n",
      "0:20:27.783283 | Epoch: 830 Loss: 563460767744.0\n",
      "0:20:47.287560 | Epoch: 840 Loss: 563171295232.0\n",
      "0:21:08.623023 | Epoch: 850 Loss: 562303401984.0\n",
      "0:21:28.997799 | Epoch: 860 Loss: 563481673728.0\n",
      "0:21:49.055507 | Epoch: 870 Loss: 563130007552.0\n",
      "0:22:08.414588 | Epoch: 880 Loss: 562757697536.0\n",
      "0:22:27.661217 | Epoch: 890 Loss: 563035504640.0\n",
      "0:22:47.045856 | Epoch: 900 Loss: 563331530752.0\n",
      "0:23:06.302584 | Epoch: 910 Loss: 562558337024.0\n",
      "0:23:25.545929 | Epoch: 920 Loss: 563523747840.0\n",
      "0:23:45.556226 | Epoch: 930 Loss: 562202935296.0\n",
      "0:24:05.115993 | Epoch: 940 Loss: 562521767936.0\n",
      "0:24:24.900893 | Epoch: 950 Loss: 562670075904.0\n",
      "0:24:44.435595 | Epoch: 960 Loss: 562852659200.0\n",
      "0:25:03.758575 | Epoch: 970 Loss: 562520064000.0\n",
      "0:39:51.014506 | Epoch: 980 Loss: 562189369344.0\n",
      "0:40:05.105790 | Epoch: 990 Loss: 561622679552.0\n",
      "0:40:18.441058 | Epoch: 1000 Loss: 561618419712.0\n"
     ]
    }
   ],
   "source": [
    "# Training model dan save model\n",
    "time_start = datetime.now()\n",
    "loss_curve = []\n",
    "start_time = datetime.now()\n",
    "\n",
    "for epoch in range(epochs+1):\n",
    "    y_pred = model(X_pt).to(device)\n",
    "    loss = criterion(y_pred, y_pt)\n",
    "    loss_curve.append(loss.item())\n",
    "    optimizer.zero_grad()\n",
    "    loss.backward()\n",
    "    optimizer.step()\n",
    "    if epoch % 10 == 0:\n",
    "        print(f'{datetime.now() - time_start} | Epoch: {epoch} Loss: {loss.item()}')"
   ]
  },
  {
   "cell_type": "code",
   "execution_count": 600,
   "metadata": {},
   "outputs": [],
   "source": [
    "torch.save({\n",
    "    'Model' : model.state_dict(),\n",
    "    'country_encoder' : country_encoder,\n",
    "    'ed_encoder' : ed_encoder,\n",
    "    'employment_encoder' : employment_encoder\n",
    "}, 'model.pt')"
   ]
  },
  {
   "cell_type": "code",
   "execution_count": 601,
   "metadata": {},
   "outputs": [
    {
     "data": {
      "image/png": "[encoded data removed]",
      "text/plain": [
       "<Figure size 640x480 with 1 Axes>"
      ]
     },
     "metadata": {},
     "output_type": "display_data"
    }
   ],
   "source": [
    "plt.plot(range(epoch+1), loss_curve)\n",
    "plt.plot(range(epochs+1)[::3000], loss_curve[::3000], '*r')\n",
    "plt.xlabel('Epochs')\n",
    "plt.ylabel('Loss')\n",
    "plt.show()"
   ]
  },
  {
   "cell_type": "code",
   "execution_count": 602,
   "metadata": {},
   "outputs": [],
   "source": [
    "model = SalaryPredict(input_size)\n",
    "loader = torch.load('model.pt')\n",
    "model.load_state_dict(loader['Model'])\n",
    "encoder_country = loader['country_encoder']\n",
    "encoder_ed = loader['ed_encoder']\n",
    "encoder_employment = loader['employment_encoder']"
   ]
  },
  {
   "cell_type": "code",
   "execution_count": 603,
   "metadata": {},
   "outputs": [
    {
     "name": "stdout",
     "output_type": "stream",
     "text": [
      "['Australia' 'Brazil' 'Canada' 'France' 'Germany' 'India' 'Italy'\n",
      " 'Netherlands' 'Other' 'Poland' 'Spain'\n",
      " 'United Kingdom of Great Britain and Northern Ireland'\n",
      " 'United States of America']\n",
      "['Associate' 'Bachelor' 'Doctoral' 'Master' 'Other degree'\n",
      " 'Primary school' 'Professional' 'Secondary school']\n",
      "['freelancer' 'full-time' 'part-time']\n"
     ]
    }
   ],
   "source": [
    "print(encoder_country.classes_)\n",
    "print(encoder_ed.classes_)\n",
    "print(encoder_employment.classes_)"
   ]
  },
  {
   "cell_type": "code",
   "execution_count": 604,
   "metadata": {},
   "outputs": [
    {
     "data": {
      "text/plain": [
       "array([['Brazil', 'Master', 'part-time', '20']], dtype='<U11')"
      ]
     },
     "execution_count": 604,
     "metadata": {},
     "output_type": "execute_result"
    }
   ],
   "source": [
    "x = np.array([['Brazil', 'Master', 'part-time', 20]])\n",
    "x"
   ]
  },
  {
   "cell_type": "code",
   "execution_count": 605,
   "metadata": {},
   "outputs": [
    {
     "data": {
      "text/plain": [
       "array([[ 1.,  3.,  2., 20.]])"
      ]
     },
     "execution_count": 605,
     "metadata": {},
     "output_type": "execute_result"
    }
   ],
   "source": [
    "x[:, 0] = encoder_country.transform(x[:, 0])\n",
    "x[:, 1] = encoder_ed.transform(x[:, 1])\n",
    "x[:, 2] = encoder_employment.transform(x[:, 2])\n",
    "x = x.astype(float)\n",
    "x"
   ]
  },
  {
   "attachments": {},
   "cell_type": "markdown",
   "metadata": {},
   "source": [
    "## Load pickle"
   ]
  },
  {
   "cell_type": "code",
   "execution_count": 619,
   "metadata": {},
   "outputs": [],
   "source": [
    "with open('model.pkl', 'rb') as file:\n",
    "    data = pickle.load(file)\n",
    "    \n",
    "dt_regressor = data['DecissionTree']\n",
    "rf_regressor = data['RandomForest']"
   ]
  },
  {
   "cell_type": "code",
   "execution_count": 620,
   "metadata": {},
   "outputs": [],
   "source": [
    "y_pred_dt = dt_regressor.predict(x)[0]\n",
    "y_pred_rf = rf_regressor.predict(x)[0]\n",
    "y_pred_nn = model(torch.from_numpy(x.astype(float)).float()).item()"
   ]
  },
  {
   "cell_type": "code",
   "execution_count": 621,
   "metadata": {},
   "outputs": [
    {
     "name": "stdout",
     "output_type": "stream",
     "text": [
      "Decission Tree: 29715.06004140787\n",
      "Random Forest: 33312.408374349754\n",
      "Neural Network: 229269.9375\n"
     ]
    }
   ],
   "source": [
    "print(f'Decission Tree: {y_pred_dt}')\n",
    "print(f'Random Forest: {y_pred_rf}')\n",
    "print(f'Neural Network: {y_pred_nn}')"
   ]
  }
 ],
 "metadata": {
  "kernelspec": {
   "display_name": "base",
   "language": "python",
   "name": "python3"
  },
  "language_info": {
   "codemirror_mode": {
    "name": "ipython",
    "version": 3
   },
   "file_extension": ".py",
   "mimetype": "text/x-python",
   "name": "python",
   "nbconvert_exporter": "python",
   "pygments_lexer": "ipython3",
   "version": "3.9.12"
  },
  "orig_nbformat": 4
 },
 "nbformat": 4,
 "nbformat_minor": 2
}
